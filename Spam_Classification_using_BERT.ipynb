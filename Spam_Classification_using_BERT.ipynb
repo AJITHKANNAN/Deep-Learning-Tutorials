{
  "nbformat": 4,
  "nbformat_minor": 0,
  "metadata": {
    "colab": {
      "provenance": [],
      "gpuType": "T4",
      "authorship_tag": "ABX9TyNrVRDsXnWZYGAeWyJ7DwpX",
      "include_colab_link": true
    },
    "kernelspec": {
      "name": "python3",
      "display_name": "Python 3"
    },
    "language_info": {
      "name": "python"
    },
    "accelerator": "GPU"
  },
  "cells": [
    {
      "cell_type": "markdown",
      "metadata": {
        "id": "view-in-github",
        "colab_type": "text"
      },
      "source": [
        "<a href=\"https://colab.research.google.com/github/AJITHKANNAN/Deep-Learning-Tutorials/blob/main/Spam_Classification_using_BERT.ipynb\" target=\"_parent\"><img src=\"https://colab.research.google.com/assets/colab-badge.svg\" alt=\"Open In Colab\"/></a>"
      ]
    },
    {
      "cell_type": "markdown",
      "source": [
        "# BERT tutorial: Classify spam vs no spam emails\n"
      ],
      "metadata": {
        "id": "izD9YPjkYxQi"
      }
    },
    {
      "cell_type": "code",
      "source": [
        "pip install tensorflow-text"
      ],
      "metadata": {
        "colab": {
          "base_uri": "https://localhost:8080/"
        },
        "id": "PZ2tP_h7ZDJy",
        "outputId": "92a2a36e-9128-4efc-97ee-eed2e4035414"
      },
      "execution_count": 1,
      "outputs": [
        {
          "output_type": "stream",
          "name": "stdout",
          "text": [
            "Collecting tensorflow-text\n",
            "  Downloading tensorflow_text-2.15.0-cp310-cp310-manylinux_2_17_x86_64.manylinux2014_x86_64.whl (5.2 MB)\n",
            "\u001b[2K     \u001b[90m━━━━━━━━━━━━━━━━━━━━━━━━━━━━━━━━━━━━━━━━\u001b[0m \u001b[32m5.2/5.2 MB\u001b[0m \u001b[31m16.3 MB/s\u001b[0m eta \u001b[36m0:00:00\u001b[0m\n",
            "\u001b[?25hRequirement already satisfied: tensorflow-hub>=0.13.0 in /usr/local/lib/python3.10/dist-packages (from tensorflow-text) (0.16.1)\n",
            "Requirement already satisfied: tensorflow<2.16,>=2.15.0 in /usr/local/lib/python3.10/dist-packages (from tensorflow-text) (2.15.0)\n",
            "Requirement already satisfied: absl-py>=1.0.0 in /usr/local/lib/python3.10/dist-packages (from tensorflow<2.16,>=2.15.0->tensorflow-text) (1.4.0)\n",
            "Requirement already satisfied: astunparse>=1.6.0 in /usr/local/lib/python3.10/dist-packages (from tensorflow<2.16,>=2.15.0->tensorflow-text) (1.6.3)\n",
            "Requirement already satisfied: flatbuffers>=23.5.26 in /usr/local/lib/python3.10/dist-packages (from tensorflow<2.16,>=2.15.0->tensorflow-text) (23.5.26)\n",
            "Requirement already satisfied: gast!=0.5.0,!=0.5.1,!=0.5.2,>=0.2.1 in /usr/local/lib/python3.10/dist-packages (from tensorflow<2.16,>=2.15.0->tensorflow-text) (0.5.4)\n",
            "Requirement already satisfied: google-pasta>=0.1.1 in /usr/local/lib/python3.10/dist-packages (from tensorflow<2.16,>=2.15.0->tensorflow-text) (0.2.0)\n",
            "Requirement already satisfied: h5py>=2.9.0 in /usr/local/lib/python3.10/dist-packages (from tensorflow<2.16,>=2.15.0->tensorflow-text) (3.9.0)\n",
            "Requirement already satisfied: libclang>=13.0.0 in /usr/local/lib/python3.10/dist-packages (from tensorflow<2.16,>=2.15.0->tensorflow-text) (16.0.6)\n",
            "Requirement already satisfied: ml-dtypes~=0.2.0 in /usr/local/lib/python3.10/dist-packages (from tensorflow<2.16,>=2.15.0->tensorflow-text) (0.2.0)\n",
            "Requirement already satisfied: numpy<2.0.0,>=1.23.5 in /usr/local/lib/python3.10/dist-packages (from tensorflow<2.16,>=2.15.0->tensorflow-text) (1.25.2)\n",
            "Requirement already satisfied: opt-einsum>=2.3.2 in /usr/local/lib/python3.10/dist-packages (from tensorflow<2.16,>=2.15.0->tensorflow-text) (3.3.0)\n",
            "Requirement already satisfied: packaging in /usr/local/lib/python3.10/dist-packages (from tensorflow<2.16,>=2.15.0->tensorflow-text) (23.2)\n",
            "Requirement already satisfied: protobuf!=4.21.0,!=4.21.1,!=4.21.2,!=4.21.3,!=4.21.4,!=4.21.5,<5.0.0dev,>=3.20.3 in /usr/local/lib/python3.10/dist-packages (from tensorflow<2.16,>=2.15.0->tensorflow-text) (3.20.3)\n",
            "Requirement already satisfied: setuptools in /usr/local/lib/python3.10/dist-packages (from tensorflow<2.16,>=2.15.0->tensorflow-text) (67.7.2)\n",
            "Requirement already satisfied: six>=1.12.0 in /usr/local/lib/python3.10/dist-packages (from tensorflow<2.16,>=2.15.0->tensorflow-text) (1.16.0)\n",
            "Requirement already satisfied: termcolor>=1.1.0 in /usr/local/lib/python3.10/dist-packages (from tensorflow<2.16,>=2.15.0->tensorflow-text) (2.4.0)\n",
            "Requirement already satisfied: typing-extensions>=3.6.6 in /usr/local/lib/python3.10/dist-packages (from tensorflow<2.16,>=2.15.0->tensorflow-text) (4.9.0)\n",
            "Requirement already satisfied: wrapt<1.15,>=1.11.0 in /usr/local/lib/python3.10/dist-packages (from tensorflow<2.16,>=2.15.0->tensorflow-text) (1.14.1)\n",
            "Requirement already satisfied: tensorflow-io-gcs-filesystem>=0.23.1 in /usr/local/lib/python3.10/dist-packages (from tensorflow<2.16,>=2.15.0->tensorflow-text) (0.36.0)\n",
            "Requirement already satisfied: grpcio<2.0,>=1.24.3 in /usr/local/lib/python3.10/dist-packages (from tensorflow<2.16,>=2.15.0->tensorflow-text) (1.60.1)\n",
            "Requirement already satisfied: tensorboard<2.16,>=2.15 in /usr/local/lib/python3.10/dist-packages (from tensorflow<2.16,>=2.15.0->tensorflow-text) (2.15.2)\n",
            "Requirement already satisfied: tensorflow-estimator<2.16,>=2.15.0 in /usr/local/lib/python3.10/dist-packages (from tensorflow<2.16,>=2.15.0->tensorflow-text) (2.15.0)\n",
            "Requirement already satisfied: keras<2.16,>=2.15.0 in /usr/local/lib/python3.10/dist-packages (from tensorflow<2.16,>=2.15.0->tensorflow-text) (2.15.0)\n",
            "Requirement already satisfied: tf-keras>=2.14.1 in /usr/local/lib/python3.10/dist-packages (from tensorflow-hub>=0.13.0->tensorflow-text) (2.15.0)\n",
            "Requirement already satisfied: wheel<1.0,>=0.23.0 in /usr/local/lib/python3.10/dist-packages (from astunparse>=1.6.0->tensorflow<2.16,>=2.15.0->tensorflow-text) (0.42.0)\n",
            "Requirement already satisfied: google-auth<3,>=1.6.3 in /usr/local/lib/python3.10/dist-packages (from tensorboard<2.16,>=2.15->tensorflow<2.16,>=2.15.0->tensorflow-text) (2.27.0)\n",
            "Requirement already satisfied: google-auth-oauthlib<2,>=0.5 in /usr/local/lib/python3.10/dist-packages (from tensorboard<2.16,>=2.15->tensorflow<2.16,>=2.15.0->tensorflow-text) (1.2.0)\n",
            "Requirement already satisfied: markdown>=2.6.8 in /usr/local/lib/python3.10/dist-packages (from tensorboard<2.16,>=2.15->tensorflow<2.16,>=2.15.0->tensorflow-text) (3.5.2)\n",
            "Requirement already satisfied: requests<3,>=2.21.0 in /usr/local/lib/python3.10/dist-packages (from tensorboard<2.16,>=2.15->tensorflow<2.16,>=2.15.0->tensorflow-text) (2.31.0)\n",
            "Requirement already satisfied: tensorboard-data-server<0.8.0,>=0.7.0 in /usr/local/lib/python3.10/dist-packages (from tensorboard<2.16,>=2.15->tensorflow<2.16,>=2.15.0->tensorflow-text) (0.7.2)\n",
            "Requirement already satisfied: werkzeug>=1.0.1 in /usr/local/lib/python3.10/dist-packages (from tensorboard<2.16,>=2.15->tensorflow<2.16,>=2.15.0->tensorflow-text) (3.0.1)\n",
            "Requirement already satisfied: cachetools<6.0,>=2.0.0 in /usr/local/lib/python3.10/dist-packages (from google-auth<3,>=1.6.3->tensorboard<2.16,>=2.15->tensorflow<2.16,>=2.15.0->tensorflow-text) (5.3.2)\n",
            "Requirement already satisfied: pyasn1-modules>=0.2.1 in /usr/local/lib/python3.10/dist-packages (from google-auth<3,>=1.6.3->tensorboard<2.16,>=2.15->tensorflow<2.16,>=2.15.0->tensorflow-text) (0.3.0)\n",
            "Requirement already satisfied: rsa<5,>=3.1.4 in /usr/local/lib/python3.10/dist-packages (from google-auth<3,>=1.6.3->tensorboard<2.16,>=2.15->tensorflow<2.16,>=2.15.0->tensorflow-text) (4.9)\n",
            "Requirement already satisfied: requests-oauthlib>=0.7.0 in /usr/local/lib/python3.10/dist-packages (from google-auth-oauthlib<2,>=0.5->tensorboard<2.16,>=2.15->tensorflow<2.16,>=2.15.0->tensorflow-text) (1.3.1)\n",
            "Requirement already satisfied: charset-normalizer<4,>=2 in /usr/local/lib/python3.10/dist-packages (from requests<3,>=2.21.0->tensorboard<2.16,>=2.15->tensorflow<2.16,>=2.15.0->tensorflow-text) (3.3.2)\n",
            "Requirement already satisfied: idna<4,>=2.5 in /usr/local/lib/python3.10/dist-packages (from requests<3,>=2.21.0->tensorboard<2.16,>=2.15->tensorflow<2.16,>=2.15.0->tensorflow-text) (3.6)\n",
            "Requirement already satisfied: urllib3<3,>=1.21.1 in /usr/local/lib/python3.10/dist-packages (from requests<3,>=2.21.0->tensorboard<2.16,>=2.15->tensorflow<2.16,>=2.15.0->tensorflow-text) (2.0.7)\n",
            "Requirement already satisfied: certifi>=2017.4.17 in /usr/local/lib/python3.10/dist-packages (from requests<3,>=2.21.0->tensorboard<2.16,>=2.15->tensorflow<2.16,>=2.15.0->tensorflow-text) (2024.2.2)\n",
            "Requirement already satisfied: MarkupSafe>=2.1.1 in /usr/local/lib/python3.10/dist-packages (from werkzeug>=1.0.1->tensorboard<2.16,>=2.15->tensorflow<2.16,>=2.15.0->tensorflow-text) (2.1.5)\n",
            "Requirement already satisfied: pyasn1<0.6.0,>=0.4.6 in /usr/local/lib/python3.10/dist-packages (from pyasn1-modules>=0.2.1->google-auth<3,>=1.6.3->tensorboard<2.16,>=2.15->tensorflow<2.16,>=2.15.0->tensorflow-text) (0.5.1)\n",
            "Requirement already satisfied: oauthlib>=3.0.0 in /usr/local/lib/python3.10/dist-packages (from requests-oauthlib>=0.7.0->google-auth-oauthlib<2,>=0.5->tensorboard<2.16,>=2.15->tensorflow<2.16,>=2.15.0->tensorflow-text) (3.2.2)\n",
            "Installing collected packages: tensorflow-text\n",
            "Successfully installed tensorflow-text-2.15.0\n"
          ]
        }
      ]
    },
    {
      "cell_type": "code",
      "execution_count": 2,
      "metadata": {
        "id": "-9bq8XAdYqBQ"
      },
      "outputs": [],
      "source": [
        "import tensorflow as tf\n",
        "import tensorflow_hub as hub\n",
        "import tensorflow_text as text"
      ]
    },
    {
      "cell_type": "code",
      "source": [
        "# Import the dataset (Dataset is taken from kaggle)\n",
        "import pandas as pd\n",
        "\n",
        "df = pd.read_csv(\"spam.csv\")\n",
        "df.head(5)"
      ],
      "metadata": {
        "colab": {
          "base_uri": "https://localhost:8080/",
          "height": 206
        },
        "id": "3EOgw6fBYyRV",
        "outputId": "53c1a649-1e02-4f45-c3f8-fce2b730f462"
      },
      "execution_count": 3,
      "outputs": [
        {
          "output_type": "execute_result",
          "data": {
            "text/plain": [
              "  Category                                            Message\n",
              "0      ham  Go until jurong point, crazy.. Available only ...\n",
              "1      ham                      Ok lar... Joking wif u oni...\n",
              "2     spam  Free entry in 2 a wkly comp to win FA Cup fina...\n",
              "3      ham  U dun say so early hor... U c already then say...\n",
              "4      ham  Nah I don't think he goes to usf, he lives aro..."
            ],
            "text/html": [
              "\n",
              "  <div id=\"df-1ac34247-281d-4436-84ce-c79907edd007\" class=\"colab-df-container\">\n",
              "    <div>\n",
              "<style scoped>\n",
              "    .dataframe tbody tr th:only-of-type {\n",
              "        vertical-align: middle;\n",
              "    }\n",
              "\n",
              "    .dataframe tbody tr th {\n",
              "        vertical-align: top;\n",
              "    }\n",
              "\n",
              "    .dataframe thead th {\n",
              "        text-align: right;\n",
              "    }\n",
              "</style>\n",
              "<table border=\"1\" class=\"dataframe\">\n",
              "  <thead>\n",
              "    <tr style=\"text-align: right;\">\n",
              "      <th></th>\n",
              "      <th>Category</th>\n",
              "      <th>Message</th>\n",
              "    </tr>\n",
              "  </thead>\n",
              "  <tbody>\n",
              "    <tr>\n",
              "      <th>0</th>\n",
              "      <td>ham</td>\n",
              "      <td>Go until jurong point, crazy.. Available only ...</td>\n",
              "    </tr>\n",
              "    <tr>\n",
              "      <th>1</th>\n",
              "      <td>ham</td>\n",
              "      <td>Ok lar... Joking wif u oni...</td>\n",
              "    </tr>\n",
              "    <tr>\n",
              "      <th>2</th>\n",
              "      <td>spam</td>\n",
              "      <td>Free entry in 2 a wkly comp to win FA Cup fina...</td>\n",
              "    </tr>\n",
              "    <tr>\n",
              "      <th>3</th>\n",
              "      <td>ham</td>\n",
              "      <td>U dun say so early hor... U c already then say...</td>\n",
              "    </tr>\n",
              "    <tr>\n",
              "      <th>4</th>\n",
              "      <td>ham</td>\n",
              "      <td>Nah I don't think he goes to usf, he lives aro...</td>\n",
              "    </tr>\n",
              "  </tbody>\n",
              "</table>\n",
              "</div>\n",
              "    <div class=\"colab-df-buttons\">\n",
              "\n",
              "  <div class=\"colab-df-container\">\n",
              "    <button class=\"colab-df-convert\" onclick=\"convertToInteractive('df-1ac34247-281d-4436-84ce-c79907edd007')\"\n",
              "            title=\"Convert this dataframe to an interactive table.\"\n",
              "            style=\"display:none;\">\n",
              "\n",
              "  <svg xmlns=\"http://www.w3.org/2000/svg\" height=\"24px\" viewBox=\"0 -960 960 960\">\n",
              "    <path d=\"M120-120v-720h720v720H120Zm60-500h600v-160H180v160Zm220 220h160v-160H400v160Zm0 220h160v-160H400v160ZM180-400h160v-160H180v160Zm440 0h160v-160H620v160ZM180-180h160v-160H180v160Zm440 0h160v-160H620v160Z\"/>\n",
              "  </svg>\n",
              "    </button>\n",
              "\n",
              "  <style>\n",
              "    .colab-df-container {\n",
              "      display:flex;\n",
              "      gap: 12px;\n",
              "    }\n",
              "\n",
              "    .colab-df-convert {\n",
              "      background-color: #E8F0FE;\n",
              "      border: none;\n",
              "      border-radius: 50%;\n",
              "      cursor: pointer;\n",
              "      display: none;\n",
              "      fill: #1967D2;\n",
              "      height: 32px;\n",
              "      padding: 0 0 0 0;\n",
              "      width: 32px;\n",
              "    }\n",
              "\n",
              "    .colab-df-convert:hover {\n",
              "      background-color: #E2EBFA;\n",
              "      box-shadow: 0px 1px 2px rgba(60, 64, 67, 0.3), 0px 1px 3px 1px rgba(60, 64, 67, 0.15);\n",
              "      fill: #174EA6;\n",
              "    }\n",
              "\n",
              "    .colab-df-buttons div {\n",
              "      margin-bottom: 4px;\n",
              "    }\n",
              "\n",
              "    [theme=dark] .colab-df-convert {\n",
              "      background-color: #3B4455;\n",
              "      fill: #D2E3FC;\n",
              "    }\n",
              "\n",
              "    [theme=dark] .colab-df-convert:hover {\n",
              "      background-color: #434B5C;\n",
              "      box-shadow: 0px 1px 3px 1px rgba(0, 0, 0, 0.15);\n",
              "      filter: drop-shadow(0px 1px 2px rgba(0, 0, 0, 0.3));\n",
              "      fill: #FFFFFF;\n",
              "    }\n",
              "  </style>\n",
              "\n",
              "    <script>\n",
              "      const buttonEl =\n",
              "        document.querySelector('#df-1ac34247-281d-4436-84ce-c79907edd007 button.colab-df-convert');\n",
              "      buttonEl.style.display =\n",
              "        google.colab.kernel.accessAllowed ? 'block' : 'none';\n",
              "\n",
              "      async function convertToInteractive(key) {\n",
              "        const element = document.querySelector('#df-1ac34247-281d-4436-84ce-c79907edd007');\n",
              "        const dataTable =\n",
              "          await google.colab.kernel.invokeFunction('convertToInteractive',\n",
              "                                                    [key], {});\n",
              "        if (!dataTable) return;\n",
              "\n",
              "        const docLinkHtml = 'Like what you see? Visit the ' +\n",
              "          '<a target=\"_blank\" href=https://colab.research.google.com/notebooks/data_table.ipynb>data table notebook</a>'\n",
              "          + ' to learn more about interactive tables.';\n",
              "        element.innerHTML = '';\n",
              "        dataTable['output_type'] = 'display_data';\n",
              "        await google.colab.output.renderOutput(dataTable, element);\n",
              "        const docLink = document.createElement('div');\n",
              "        docLink.innerHTML = docLinkHtml;\n",
              "        element.appendChild(docLink);\n",
              "      }\n",
              "    </script>\n",
              "  </div>\n",
              "\n",
              "\n",
              "<div id=\"df-9d0b2a5e-fe37-4209-af54-9dc996517021\">\n",
              "  <button class=\"colab-df-quickchart\" onclick=\"quickchart('df-9d0b2a5e-fe37-4209-af54-9dc996517021')\"\n",
              "            title=\"Suggest charts\"\n",
              "            style=\"display:none;\">\n",
              "\n",
              "<svg xmlns=\"http://www.w3.org/2000/svg\" height=\"24px\"viewBox=\"0 0 24 24\"\n",
              "     width=\"24px\">\n",
              "    <g>\n",
              "        <path d=\"M19 3H5c-1.1 0-2 .9-2 2v14c0 1.1.9 2 2 2h14c1.1 0 2-.9 2-2V5c0-1.1-.9-2-2-2zM9 17H7v-7h2v7zm4 0h-2V7h2v10zm4 0h-2v-4h2v4z\"/>\n",
              "    </g>\n",
              "</svg>\n",
              "  </button>\n",
              "\n",
              "<style>\n",
              "  .colab-df-quickchart {\n",
              "      --bg-color: #E8F0FE;\n",
              "      --fill-color: #1967D2;\n",
              "      --hover-bg-color: #E2EBFA;\n",
              "      --hover-fill-color: #174EA6;\n",
              "      --disabled-fill-color: #AAA;\n",
              "      --disabled-bg-color: #DDD;\n",
              "  }\n",
              "\n",
              "  [theme=dark] .colab-df-quickchart {\n",
              "      --bg-color: #3B4455;\n",
              "      --fill-color: #D2E3FC;\n",
              "      --hover-bg-color: #434B5C;\n",
              "      --hover-fill-color: #FFFFFF;\n",
              "      --disabled-bg-color: #3B4455;\n",
              "      --disabled-fill-color: #666;\n",
              "  }\n",
              "\n",
              "  .colab-df-quickchart {\n",
              "    background-color: var(--bg-color);\n",
              "    border: none;\n",
              "    border-radius: 50%;\n",
              "    cursor: pointer;\n",
              "    display: none;\n",
              "    fill: var(--fill-color);\n",
              "    height: 32px;\n",
              "    padding: 0;\n",
              "    width: 32px;\n",
              "  }\n",
              "\n",
              "  .colab-df-quickchart:hover {\n",
              "    background-color: var(--hover-bg-color);\n",
              "    box-shadow: 0 1px 2px rgba(60, 64, 67, 0.3), 0 1px 3px 1px rgba(60, 64, 67, 0.15);\n",
              "    fill: var(--button-hover-fill-color);\n",
              "  }\n",
              "\n",
              "  .colab-df-quickchart-complete:disabled,\n",
              "  .colab-df-quickchart-complete:disabled:hover {\n",
              "    background-color: var(--disabled-bg-color);\n",
              "    fill: var(--disabled-fill-color);\n",
              "    box-shadow: none;\n",
              "  }\n",
              "\n",
              "  .colab-df-spinner {\n",
              "    border: 2px solid var(--fill-color);\n",
              "    border-color: transparent;\n",
              "    border-bottom-color: var(--fill-color);\n",
              "    animation:\n",
              "      spin 1s steps(1) infinite;\n",
              "  }\n",
              "\n",
              "  @keyframes spin {\n",
              "    0% {\n",
              "      border-color: transparent;\n",
              "      border-bottom-color: var(--fill-color);\n",
              "      border-left-color: var(--fill-color);\n",
              "    }\n",
              "    20% {\n",
              "      border-color: transparent;\n",
              "      border-left-color: var(--fill-color);\n",
              "      border-top-color: var(--fill-color);\n",
              "    }\n",
              "    30% {\n",
              "      border-color: transparent;\n",
              "      border-left-color: var(--fill-color);\n",
              "      border-top-color: var(--fill-color);\n",
              "      border-right-color: var(--fill-color);\n",
              "    }\n",
              "    40% {\n",
              "      border-color: transparent;\n",
              "      border-right-color: var(--fill-color);\n",
              "      border-top-color: var(--fill-color);\n",
              "    }\n",
              "    60% {\n",
              "      border-color: transparent;\n",
              "      border-right-color: var(--fill-color);\n",
              "    }\n",
              "    80% {\n",
              "      border-color: transparent;\n",
              "      border-right-color: var(--fill-color);\n",
              "      border-bottom-color: var(--fill-color);\n",
              "    }\n",
              "    90% {\n",
              "      border-color: transparent;\n",
              "      border-bottom-color: var(--fill-color);\n",
              "    }\n",
              "  }\n",
              "</style>\n",
              "\n",
              "  <script>\n",
              "    async function quickchart(key) {\n",
              "      const quickchartButtonEl =\n",
              "        document.querySelector('#' + key + ' button');\n",
              "      quickchartButtonEl.disabled = true;  // To prevent multiple clicks.\n",
              "      quickchartButtonEl.classList.add('colab-df-spinner');\n",
              "      try {\n",
              "        const charts = await google.colab.kernel.invokeFunction(\n",
              "            'suggestCharts', [key], {});\n",
              "      } catch (error) {\n",
              "        console.error('Error during call to suggestCharts:', error);\n",
              "      }\n",
              "      quickchartButtonEl.classList.remove('colab-df-spinner');\n",
              "      quickchartButtonEl.classList.add('colab-df-quickchart-complete');\n",
              "    }\n",
              "    (() => {\n",
              "      let quickchartButtonEl =\n",
              "        document.querySelector('#df-9d0b2a5e-fe37-4209-af54-9dc996517021 button');\n",
              "      quickchartButtonEl.style.display =\n",
              "        google.colab.kernel.accessAllowed ? 'block' : 'none';\n",
              "    })();\n",
              "  </script>\n",
              "</div>\n",
              "\n",
              "    </div>\n",
              "  </div>\n"
            ],
            "application/vnd.google.colaboratory.intrinsic+json": {
              "type": "dataframe",
              "variable_name": "df",
              "summary": "{\n  \"name\": \"df\",\n  \"rows\": 5572,\n  \"fields\": [\n    {\n      \"column\": \"Category\",\n      \"properties\": {\n        \"dtype\": \"category\",\n        \"num_unique_values\": 2,\n        \"samples\": [\n          \"spam\",\n          \"ham\"\n        ],\n        \"semantic_type\": \"\",\n        \"description\": \"\"\n      }\n    },\n    {\n      \"column\": \"Message\",\n      \"properties\": {\n        \"dtype\": \"string\",\n        \"num_unique_values\": 5157,\n        \"samples\": [\n          \"Also sir, i sent you an email about how to log into the usc payment portal. I.ll send you another message that should explain how things are back home. Have a great weekend.\",\n          \"Are you free now?can i call now?\"\n        ],\n        \"semantic_type\": \"\",\n        \"description\": \"\"\n      }\n    }\n  ]\n}"
            }
          },
          "metadata": {},
          "execution_count": 3
        }
      ]
    },
    {
      "cell_type": "code",
      "source": [
        "df.shape"
      ],
      "metadata": {
        "colab": {
          "base_uri": "https://localhost:8080/"
        },
        "id": "rpbf8RMcYye7",
        "outputId": "2e882a4f-23f3-42a9-d229-c71359d2a09d"
      },
      "execution_count": 4,
      "outputs": [
        {
          "output_type": "execute_result",
          "data": {
            "text/plain": [
              "(5572, 2)"
            ]
          },
          "metadata": {},
          "execution_count": 4
        }
      ]
    },
    {
      "cell_type": "code",
      "source": [
        "df.groupby('Category').describe()"
      ],
      "metadata": {
        "colab": {
          "base_uri": "https://localhost:8080/",
          "height": 175
        },
        "id": "UrUxyYEcYykc",
        "outputId": "a2dfd39c-1500-4b9e-938d-34ee8d769081"
      },
      "execution_count": 5,
      "outputs": [
        {
          "output_type": "execute_result",
          "data": {
            "text/plain": [
              "         Message                                                            \\\n",
              "           count unique                                                top   \n",
              "Category                                                                     \n",
              "ham         4825   4516                             Sorry, I'll call later   \n",
              "spam         747    641  Please call our customer service representativ...   \n",
              "\n",
              "               \n",
              "         freq  \n",
              "Category       \n",
              "ham        30  \n",
              "spam        4  "
            ],
            "text/html": [
              "\n",
              "  <div id=\"df-3da4d190-d675-4ae5-a207-042096496a72\" class=\"colab-df-container\">\n",
              "    <div>\n",
              "<style scoped>\n",
              "    .dataframe tbody tr th:only-of-type {\n",
              "        vertical-align: middle;\n",
              "    }\n",
              "\n",
              "    .dataframe tbody tr th {\n",
              "        vertical-align: top;\n",
              "    }\n",
              "\n",
              "    .dataframe thead tr th {\n",
              "        text-align: left;\n",
              "    }\n",
              "\n",
              "    .dataframe thead tr:last-of-type th {\n",
              "        text-align: right;\n",
              "    }\n",
              "</style>\n",
              "<table border=\"1\" class=\"dataframe\">\n",
              "  <thead>\n",
              "    <tr>\n",
              "      <th></th>\n",
              "      <th colspan=\"4\" halign=\"left\">Message</th>\n",
              "    </tr>\n",
              "    <tr>\n",
              "      <th></th>\n",
              "      <th>count</th>\n",
              "      <th>unique</th>\n",
              "      <th>top</th>\n",
              "      <th>freq</th>\n",
              "    </tr>\n",
              "    <tr>\n",
              "      <th>Category</th>\n",
              "      <th></th>\n",
              "      <th></th>\n",
              "      <th></th>\n",
              "      <th></th>\n",
              "    </tr>\n",
              "  </thead>\n",
              "  <tbody>\n",
              "    <tr>\n",
              "      <th>ham</th>\n",
              "      <td>4825</td>\n",
              "      <td>4516</td>\n",
              "      <td>Sorry, I'll call later</td>\n",
              "      <td>30</td>\n",
              "    </tr>\n",
              "    <tr>\n",
              "      <th>spam</th>\n",
              "      <td>747</td>\n",
              "      <td>641</td>\n",
              "      <td>Please call our customer service representativ...</td>\n",
              "      <td>4</td>\n",
              "    </tr>\n",
              "  </tbody>\n",
              "</table>\n",
              "</div>\n",
              "    <div class=\"colab-df-buttons\">\n",
              "\n",
              "  <div class=\"colab-df-container\">\n",
              "    <button class=\"colab-df-convert\" onclick=\"convertToInteractive('df-3da4d190-d675-4ae5-a207-042096496a72')\"\n",
              "            title=\"Convert this dataframe to an interactive table.\"\n",
              "            style=\"display:none;\">\n",
              "\n",
              "  <svg xmlns=\"http://www.w3.org/2000/svg\" height=\"24px\" viewBox=\"0 -960 960 960\">\n",
              "    <path d=\"M120-120v-720h720v720H120Zm60-500h600v-160H180v160Zm220 220h160v-160H400v160Zm0 220h160v-160H400v160ZM180-400h160v-160H180v160Zm440 0h160v-160H620v160ZM180-180h160v-160H180v160Zm440 0h160v-160H620v160Z\"/>\n",
              "  </svg>\n",
              "    </button>\n",
              "\n",
              "  <style>\n",
              "    .colab-df-container {\n",
              "      display:flex;\n",
              "      gap: 12px;\n",
              "    }\n",
              "\n",
              "    .colab-df-convert {\n",
              "      background-color: #E8F0FE;\n",
              "      border: none;\n",
              "      border-radius: 50%;\n",
              "      cursor: pointer;\n",
              "      display: none;\n",
              "      fill: #1967D2;\n",
              "      height: 32px;\n",
              "      padding: 0 0 0 0;\n",
              "      width: 32px;\n",
              "    }\n",
              "\n",
              "    .colab-df-convert:hover {\n",
              "      background-color: #E2EBFA;\n",
              "      box-shadow: 0px 1px 2px rgba(60, 64, 67, 0.3), 0px 1px 3px 1px rgba(60, 64, 67, 0.15);\n",
              "      fill: #174EA6;\n",
              "    }\n",
              "\n",
              "    .colab-df-buttons div {\n",
              "      margin-bottom: 4px;\n",
              "    }\n",
              "\n",
              "    [theme=dark] .colab-df-convert {\n",
              "      background-color: #3B4455;\n",
              "      fill: #D2E3FC;\n",
              "    }\n",
              "\n",
              "    [theme=dark] .colab-df-convert:hover {\n",
              "      background-color: #434B5C;\n",
              "      box-shadow: 0px 1px 3px 1px rgba(0, 0, 0, 0.15);\n",
              "      filter: drop-shadow(0px 1px 2px rgba(0, 0, 0, 0.3));\n",
              "      fill: #FFFFFF;\n",
              "    }\n",
              "  </style>\n",
              "\n",
              "    <script>\n",
              "      const buttonEl =\n",
              "        document.querySelector('#df-3da4d190-d675-4ae5-a207-042096496a72 button.colab-df-convert');\n",
              "      buttonEl.style.display =\n",
              "        google.colab.kernel.accessAllowed ? 'block' : 'none';\n",
              "\n",
              "      async function convertToInteractive(key) {\n",
              "        const element = document.querySelector('#df-3da4d190-d675-4ae5-a207-042096496a72');\n",
              "        const dataTable =\n",
              "          await google.colab.kernel.invokeFunction('convertToInteractive',\n",
              "                                                    [key], {});\n",
              "        if (!dataTable) return;\n",
              "\n",
              "        const docLinkHtml = 'Like what you see? Visit the ' +\n",
              "          '<a target=\"_blank\" href=https://colab.research.google.com/notebooks/data_table.ipynb>data table notebook</a>'\n",
              "          + ' to learn more about interactive tables.';\n",
              "        element.innerHTML = '';\n",
              "        dataTable['output_type'] = 'display_data';\n",
              "        await google.colab.output.renderOutput(dataTable, element);\n",
              "        const docLink = document.createElement('div');\n",
              "        docLink.innerHTML = docLinkHtml;\n",
              "        element.appendChild(docLink);\n",
              "      }\n",
              "    </script>\n",
              "  </div>\n",
              "\n",
              "\n",
              "<div id=\"df-278a41e4-79d8-4458-8098-411a8ac4627c\">\n",
              "  <button class=\"colab-df-quickchart\" onclick=\"quickchart('df-278a41e4-79d8-4458-8098-411a8ac4627c')\"\n",
              "            title=\"Suggest charts\"\n",
              "            style=\"display:none;\">\n",
              "\n",
              "<svg xmlns=\"http://www.w3.org/2000/svg\" height=\"24px\"viewBox=\"0 0 24 24\"\n",
              "     width=\"24px\">\n",
              "    <g>\n",
              "        <path d=\"M19 3H5c-1.1 0-2 .9-2 2v14c0 1.1.9 2 2 2h14c1.1 0 2-.9 2-2V5c0-1.1-.9-2-2-2zM9 17H7v-7h2v7zm4 0h-2V7h2v10zm4 0h-2v-4h2v4z\"/>\n",
              "    </g>\n",
              "</svg>\n",
              "  </button>\n",
              "\n",
              "<style>\n",
              "  .colab-df-quickchart {\n",
              "      --bg-color: #E8F0FE;\n",
              "      --fill-color: #1967D2;\n",
              "      --hover-bg-color: #E2EBFA;\n",
              "      --hover-fill-color: #174EA6;\n",
              "      --disabled-fill-color: #AAA;\n",
              "      --disabled-bg-color: #DDD;\n",
              "  }\n",
              "\n",
              "  [theme=dark] .colab-df-quickchart {\n",
              "      --bg-color: #3B4455;\n",
              "      --fill-color: #D2E3FC;\n",
              "      --hover-bg-color: #434B5C;\n",
              "      --hover-fill-color: #FFFFFF;\n",
              "      --disabled-bg-color: #3B4455;\n",
              "      --disabled-fill-color: #666;\n",
              "  }\n",
              "\n",
              "  .colab-df-quickchart {\n",
              "    background-color: var(--bg-color);\n",
              "    border: none;\n",
              "    border-radius: 50%;\n",
              "    cursor: pointer;\n",
              "    display: none;\n",
              "    fill: var(--fill-color);\n",
              "    height: 32px;\n",
              "    padding: 0;\n",
              "    width: 32px;\n",
              "  }\n",
              "\n",
              "  .colab-df-quickchart:hover {\n",
              "    background-color: var(--hover-bg-color);\n",
              "    box-shadow: 0 1px 2px rgba(60, 64, 67, 0.3), 0 1px 3px 1px rgba(60, 64, 67, 0.15);\n",
              "    fill: var(--button-hover-fill-color);\n",
              "  }\n",
              "\n",
              "  .colab-df-quickchart-complete:disabled,\n",
              "  .colab-df-quickchart-complete:disabled:hover {\n",
              "    background-color: var(--disabled-bg-color);\n",
              "    fill: var(--disabled-fill-color);\n",
              "    box-shadow: none;\n",
              "  }\n",
              "\n",
              "  .colab-df-spinner {\n",
              "    border: 2px solid var(--fill-color);\n",
              "    border-color: transparent;\n",
              "    border-bottom-color: var(--fill-color);\n",
              "    animation:\n",
              "      spin 1s steps(1) infinite;\n",
              "  }\n",
              "\n",
              "  @keyframes spin {\n",
              "    0% {\n",
              "      border-color: transparent;\n",
              "      border-bottom-color: var(--fill-color);\n",
              "      border-left-color: var(--fill-color);\n",
              "    }\n",
              "    20% {\n",
              "      border-color: transparent;\n",
              "      border-left-color: var(--fill-color);\n",
              "      border-top-color: var(--fill-color);\n",
              "    }\n",
              "    30% {\n",
              "      border-color: transparent;\n",
              "      border-left-color: var(--fill-color);\n",
              "      border-top-color: var(--fill-color);\n",
              "      border-right-color: var(--fill-color);\n",
              "    }\n",
              "    40% {\n",
              "      border-color: transparent;\n",
              "      border-right-color: var(--fill-color);\n",
              "      border-top-color: var(--fill-color);\n",
              "    }\n",
              "    60% {\n",
              "      border-color: transparent;\n",
              "      border-right-color: var(--fill-color);\n",
              "    }\n",
              "    80% {\n",
              "      border-color: transparent;\n",
              "      border-right-color: var(--fill-color);\n",
              "      border-bottom-color: var(--fill-color);\n",
              "    }\n",
              "    90% {\n",
              "      border-color: transparent;\n",
              "      border-bottom-color: var(--fill-color);\n",
              "    }\n",
              "  }\n",
              "</style>\n",
              "\n",
              "  <script>\n",
              "    async function quickchart(key) {\n",
              "      const quickchartButtonEl =\n",
              "        document.querySelector('#' + key + ' button');\n",
              "      quickchartButtonEl.disabled = true;  // To prevent multiple clicks.\n",
              "      quickchartButtonEl.classList.add('colab-df-spinner');\n",
              "      try {\n",
              "        const charts = await google.colab.kernel.invokeFunction(\n",
              "            'suggestCharts', [key], {});\n",
              "      } catch (error) {\n",
              "        console.error('Error during call to suggestCharts:', error);\n",
              "      }\n",
              "      quickchartButtonEl.classList.remove('colab-df-spinner');\n",
              "      quickchartButtonEl.classList.add('colab-df-quickchart-complete');\n",
              "    }\n",
              "    (() => {\n",
              "      let quickchartButtonEl =\n",
              "        document.querySelector('#df-278a41e4-79d8-4458-8098-411a8ac4627c button');\n",
              "      quickchartButtonEl.style.display =\n",
              "        google.colab.kernel.accessAllowed ? 'block' : 'none';\n",
              "    })();\n",
              "  </script>\n",
              "</div>\n",
              "\n",
              "    </div>\n",
              "  </div>\n"
            ],
            "application/vnd.google.colaboratory.intrinsic+json": {
              "type": "dataframe",
              "repr_error": "'tuple' object has no attribute 'empty'"
            }
          },
          "metadata": {},
          "execution_count": 5
        }
      ]
    },
    {
      "cell_type": "code",
      "source": [],
      "metadata": {
        "id": "9dGgX7dmYypT"
      },
      "execution_count": 5,
      "outputs": []
    },
    {
      "cell_type": "code",
      "source": [
        "df['Category'].value_counts()\n"
      ],
      "metadata": {
        "colab": {
          "base_uri": "https://localhost:8080/"
        },
        "id": "bdzCxChLYytg",
        "outputId": "399b4a32-3270-4556-a4a0-439735333daa"
      },
      "execution_count": 6,
      "outputs": [
        {
          "output_type": "execute_result",
          "data": {
            "text/plain": [
              "ham     4825\n",
              "spam     747\n",
              "Name: Category, dtype: int64"
            ]
          },
          "metadata": {},
          "execution_count": 6
        }
      ]
    },
    {
      "cell_type": "code",
      "source": [
        "747/4825\n"
      ],
      "metadata": {
        "colab": {
          "base_uri": "https://localhost:8080/"
        },
        "id": "Pm3rXn0LYyyD",
        "outputId": "a5732bf6-1dbf-435a-bde9-72eb61d4481c"
      },
      "execution_count": 7,
      "outputs": [
        {
          "output_type": "execute_result",
          "data": {
            "text/plain": [
              "0.15481865284974095"
            ]
          },
          "metadata": {},
          "execution_count": 7
        }
      ]
    },
    {
      "cell_type": "markdown",
      "source": [
        "# 15% spam emails, 85% ham emails: This indicates class imbalance\n",
        "\n",
        "#"
      ],
      "metadata": {
        "id": "rz7xmnhTYy2d"
      }
    },
    {
      "cell_type": "code",
      "source": [
        "df_spam = df[df['Category']=='spam']\n",
        "df_spam.shape\n"
      ],
      "metadata": {
        "colab": {
          "base_uri": "https://localhost:8080/"
        },
        "id": "QNRxgl-CYy6r",
        "outputId": "95874dee-5a50-4d95-e5e6-27554ce1197b"
      },
      "execution_count": 8,
      "outputs": [
        {
          "output_type": "execute_result",
          "data": {
            "text/plain": [
              "(747, 2)"
            ]
          },
          "metadata": {},
          "execution_count": 8
        }
      ]
    },
    {
      "cell_type": "code",
      "source": [
        "df_ham = df[df['Category']=='ham']\n",
        "df_ham.shape"
      ],
      "metadata": {
        "colab": {
          "base_uri": "https://localhost:8080/"
        },
        "id": "lzVK_mSqYzA2",
        "outputId": "4983455d-e3f2-463d-a548-c86e7dfb0580"
      },
      "execution_count": 9,
      "outputs": [
        {
          "output_type": "execute_result",
          "data": {
            "text/plain": [
              "(4825, 2)"
            ]
          },
          "metadata": {},
          "execution_count": 9
        }
      ]
    },
    {
      "cell_type": "code",
      "source": [],
      "metadata": {
        "id": "qDI4KgngYzDe"
      },
      "execution_count": 9,
      "outputs": []
    },
    {
      "cell_type": "code",
      "source": [
        "# Downsampling (note that: you might lose many data)\n",
        "df_ham_downsampled = df_ham.sample(df_spam.shape[0])\n",
        "df_ham_downsampled.shape"
      ],
      "metadata": {
        "colab": {
          "base_uri": "https://localhost:8080/"
        },
        "id": "v7B_psywYzGX",
        "outputId": "a9af2b3c-7c71-4aa3-9db5-d12727f08406"
      },
      "execution_count": 10,
      "outputs": [
        {
          "output_type": "execute_result",
          "data": {
            "text/plain": [
              "(747, 2)"
            ]
          },
          "metadata": {},
          "execution_count": 10
        }
      ]
    },
    {
      "cell_type": "markdown",
      "source": [
        "#  concat spam and down sampled HAM"
      ],
      "metadata": {
        "id": "CkBNLY-KagHl"
      }
    },
    {
      "cell_type": "code",
      "source": [
        "df_balanced = pd.concat([df_ham_downsampled, df_spam])\n",
        "df_balanced.shape"
      ],
      "metadata": {
        "colab": {
          "base_uri": "https://localhost:8080/"
        },
        "id": "cGjU_1PVYzJ4",
        "outputId": "b25d84af-6e56-4163-8aa8-24d21fee1734"
      },
      "execution_count": 11,
      "outputs": [
        {
          "output_type": "execute_result",
          "data": {
            "text/plain": [
              "(1494, 2)"
            ]
          },
          "metadata": {},
          "execution_count": 11
        }
      ]
    },
    {
      "cell_type": "code",
      "source": [
        "df_balanced['Category'].value_counts()\n"
      ],
      "metadata": {
        "colab": {
          "base_uri": "https://localhost:8080/"
        },
        "id": "uLNEs7wIbPZL",
        "outputId": "7f6e1451-d9a3-4f9e-e9a3-4960d726c6b7"
      },
      "execution_count": 12,
      "outputs": [
        {
          "output_type": "execute_result",
          "data": {
            "text/plain": [
              "ham     747\n",
              "spam    747\n",
              "Name: Category, dtype: int64"
            ]
          },
          "metadata": {},
          "execution_count": 12
        }
      ]
    },
    {
      "cell_type": "markdown",
      "source": [
        "# Create a new column called 'Spam' and  convert Categories to 0 and 1  (Ham and Spam)"
      ],
      "metadata": {
        "id": "2wEnhvVpasx1"
      }
    },
    {
      "cell_type": "code",
      "source": [
        "df_balanced['spam'] = df_balanced['Category'].apply(lambda x: 1 if x=='spam' else 0)\n",
        "df_balanced.sample(5)"
      ],
      "metadata": {
        "colab": {
          "base_uri": "https://localhost:8080/",
          "height": 206
        },
        "id": "mar_ayPaYzQu",
        "outputId": "4890ccd3-b5ac-455e-f88c-d229edb93354"
      },
      "execution_count": 13,
      "outputs": [
        {
          "output_type": "execute_result",
          "data": {
            "text/plain": [
              "     Category                                            Message  spam\n",
              "5476      ham  Yes princess! I want to please you every night...     0\n",
              "3872      ham  Yeah my usual guy's out of town but there're d...     0\n",
              "3087      ham  I wish that I was with you. Holding you tightl...     0\n",
              "5366     spam  A £400 XMAS REWARD IS WAITING FOR YOU! Our com...     1\n",
              "789      spam  5 Free Top Polyphonic Tones call 087018728737,...     1"
            ],
            "text/html": [
              "\n",
              "  <div id=\"df-0e4e3167-5b95-48fc-be80-a1ec1283e77f\" class=\"colab-df-container\">\n",
              "    <div>\n",
              "<style scoped>\n",
              "    .dataframe tbody tr th:only-of-type {\n",
              "        vertical-align: middle;\n",
              "    }\n",
              "\n",
              "    .dataframe tbody tr th {\n",
              "        vertical-align: top;\n",
              "    }\n",
              "\n",
              "    .dataframe thead th {\n",
              "        text-align: right;\n",
              "    }\n",
              "</style>\n",
              "<table border=\"1\" class=\"dataframe\">\n",
              "  <thead>\n",
              "    <tr style=\"text-align: right;\">\n",
              "      <th></th>\n",
              "      <th>Category</th>\n",
              "      <th>Message</th>\n",
              "      <th>spam</th>\n",
              "    </tr>\n",
              "  </thead>\n",
              "  <tbody>\n",
              "    <tr>\n",
              "      <th>5476</th>\n",
              "      <td>ham</td>\n",
              "      <td>Yes princess! I want to please you every night...</td>\n",
              "      <td>0</td>\n",
              "    </tr>\n",
              "    <tr>\n",
              "      <th>3872</th>\n",
              "      <td>ham</td>\n",
              "      <td>Yeah my usual guy's out of town but there're d...</td>\n",
              "      <td>0</td>\n",
              "    </tr>\n",
              "    <tr>\n",
              "      <th>3087</th>\n",
              "      <td>ham</td>\n",
              "      <td>I wish that I was with you. Holding you tightl...</td>\n",
              "      <td>0</td>\n",
              "    </tr>\n",
              "    <tr>\n",
              "      <th>5366</th>\n",
              "      <td>spam</td>\n",
              "      <td>A £400 XMAS REWARD IS WAITING FOR YOU! Our com...</td>\n",
              "      <td>1</td>\n",
              "    </tr>\n",
              "    <tr>\n",
              "      <th>789</th>\n",
              "      <td>spam</td>\n",
              "      <td>5 Free Top Polyphonic Tones call 087018728737,...</td>\n",
              "      <td>1</td>\n",
              "    </tr>\n",
              "  </tbody>\n",
              "</table>\n",
              "</div>\n",
              "    <div class=\"colab-df-buttons\">\n",
              "\n",
              "  <div class=\"colab-df-container\">\n",
              "    <button class=\"colab-df-convert\" onclick=\"convertToInteractive('df-0e4e3167-5b95-48fc-be80-a1ec1283e77f')\"\n",
              "            title=\"Convert this dataframe to an interactive table.\"\n",
              "            style=\"display:none;\">\n",
              "\n",
              "  <svg xmlns=\"http://www.w3.org/2000/svg\" height=\"24px\" viewBox=\"0 -960 960 960\">\n",
              "    <path d=\"M120-120v-720h720v720H120Zm60-500h600v-160H180v160Zm220 220h160v-160H400v160Zm0 220h160v-160H400v160ZM180-400h160v-160H180v160Zm440 0h160v-160H620v160ZM180-180h160v-160H180v160Zm440 0h160v-160H620v160Z\"/>\n",
              "  </svg>\n",
              "    </button>\n",
              "\n",
              "  <style>\n",
              "    .colab-df-container {\n",
              "      display:flex;\n",
              "      gap: 12px;\n",
              "    }\n",
              "\n",
              "    .colab-df-convert {\n",
              "      background-color: #E8F0FE;\n",
              "      border: none;\n",
              "      border-radius: 50%;\n",
              "      cursor: pointer;\n",
              "      display: none;\n",
              "      fill: #1967D2;\n",
              "      height: 32px;\n",
              "      padding: 0 0 0 0;\n",
              "      width: 32px;\n",
              "    }\n",
              "\n",
              "    .colab-df-convert:hover {\n",
              "      background-color: #E2EBFA;\n",
              "      box-shadow: 0px 1px 2px rgba(60, 64, 67, 0.3), 0px 1px 3px 1px rgba(60, 64, 67, 0.15);\n",
              "      fill: #174EA6;\n",
              "    }\n",
              "\n",
              "    .colab-df-buttons div {\n",
              "      margin-bottom: 4px;\n",
              "    }\n",
              "\n",
              "    [theme=dark] .colab-df-convert {\n",
              "      background-color: #3B4455;\n",
              "      fill: #D2E3FC;\n",
              "    }\n",
              "\n",
              "    [theme=dark] .colab-df-convert:hover {\n",
              "      background-color: #434B5C;\n",
              "      box-shadow: 0px 1px 3px 1px rgba(0, 0, 0, 0.15);\n",
              "      filter: drop-shadow(0px 1px 2px rgba(0, 0, 0, 0.3));\n",
              "      fill: #FFFFFF;\n",
              "    }\n",
              "  </style>\n",
              "\n",
              "    <script>\n",
              "      const buttonEl =\n",
              "        document.querySelector('#df-0e4e3167-5b95-48fc-be80-a1ec1283e77f button.colab-df-convert');\n",
              "      buttonEl.style.display =\n",
              "        google.colab.kernel.accessAllowed ? 'block' : 'none';\n",
              "\n",
              "      async function convertToInteractive(key) {\n",
              "        const element = document.querySelector('#df-0e4e3167-5b95-48fc-be80-a1ec1283e77f');\n",
              "        const dataTable =\n",
              "          await google.colab.kernel.invokeFunction('convertToInteractive',\n",
              "                                                    [key], {});\n",
              "        if (!dataTable) return;\n",
              "\n",
              "        const docLinkHtml = 'Like what you see? Visit the ' +\n",
              "          '<a target=\"_blank\" href=https://colab.research.google.com/notebooks/data_table.ipynb>data table notebook</a>'\n",
              "          + ' to learn more about interactive tables.';\n",
              "        element.innerHTML = '';\n",
              "        dataTable['output_type'] = 'display_data';\n",
              "        await google.colab.output.renderOutput(dataTable, element);\n",
              "        const docLink = document.createElement('div');\n",
              "        docLink.innerHTML = docLinkHtml;\n",
              "        element.appendChild(docLink);\n",
              "      }\n",
              "    </script>\n",
              "  </div>\n",
              "\n",
              "\n",
              "<div id=\"df-503cda39-8915-4b6e-8419-568d54cd6a5b\">\n",
              "  <button class=\"colab-df-quickchart\" onclick=\"quickchart('df-503cda39-8915-4b6e-8419-568d54cd6a5b')\"\n",
              "            title=\"Suggest charts\"\n",
              "            style=\"display:none;\">\n",
              "\n",
              "<svg xmlns=\"http://www.w3.org/2000/svg\" height=\"24px\"viewBox=\"0 0 24 24\"\n",
              "     width=\"24px\">\n",
              "    <g>\n",
              "        <path d=\"M19 3H5c-1.1 0-2 .9-2 2v14c0 1.1.9 2 2 2h14c1.1 0 2-.9 2-2V5c0-1.1-.9-2-2-2zM9 17H7v-7h2v7zm4 0h-2V7h2v10zm4 0h-2v-4h2v4z\"/>\n",
              "    </g>\n",
              "</svg>\n",
              "  </button>\n",
              "\n",
              "<style>\n",
              "  .colab-df-quickchart {\n",
              "      --bg-color: #E8F0FE;\n",
              "      --fill-color: #1967D2;\n",
              "      --hover-bg-color: #E2EBFA;\n",
              "      --hover-fill-color: #174EA6;\n",
              "      --disabled-fill-color: #AAA;\n",
              "      --disabled-bg-color: #DDD;\n",
              "  }\n",
              "\n",
              "  [theme=dark] .colab-df-quickchart {\n",
              "      --bg-color: #3B4455;\n",
              "      --fill-color: #D2E3FC;\n",
              "      --hover-bg-color: #434B5C;\n",
              "      --hover-fill-color: #FFFFFF;\n",
              "      --disabled-bg-color: #3B4455;\n",
              "      --disabled-fill-color: #666;\n",
              "  }\n",
              "\n",
              "  .colab-df-quickchart {\n",
              "    background-color: var(--bg-color);\n",
              "    border: none;\n",
              "    border-radius: 50%;\n",
              "    cursor: pointer;\n",
              "    display: none;\n",
              "    fill: var(--fill-color);\n",
              "    height: 32px;\n",
              "    padding: 0;\n",
              "    width: 32px;\n",
              "  }\n",
              "\n",
              "  .colab-df-quickchart:hover {\n",
              "    background-color: var(--hover-bg-color);\n",
              "    box-shadow: 0 1px 2px rgba(60, 64, 67, 0.3), 0 1px 3px 1px rgba(60, 64, 67, 0.15);\n",
              "    fill: var(--button-hover-fill-color);\n",
              "  }\n",
              "\n",
              "  .colab-df-quickchart-complete:disabled,\n",
              "  .colab-df-quickchart-complete:disabled:hover {\n",
              "    background-color: var(--disabled-bg-color);\n",
              "    fill: var(--disabled-fill-color);\n",
              "    box-shadow: none;\n",
              "  }\n",
              "\n",
              "  .colab-df-spinner {\n",
              "    border: 2px solid var(--fill-color);\n",
              "    border-color: transparent;\n",
              "    border-bottom-color: var(--fill-color);\n",
              "    animation:\n",
              "      spin 1s steps(1) infinite;\n",
              "  }\n",
              "\n",
              "  @keyframes spin {\n",
              "    0% {\n",
              "      border-color: transparent;\n",
              "      border-bottom-color: var(--fill-color);\n",
              "      border-left-color: var(--fill-color);\n",
              "    }\n",
              "    20% {\n",
              "      border-color: transparent;\n",
              "      border-left-color: var(--fill-color);\n",
              "      border-top-color: var(--fill-color);\n",
              "    }\n",
              "    30% {\n",
              "      border-color: transparent;\n",
              "      border-left-color: var(--fill-color);\n",
              "      border-top-color: var(--fill-color);\n",
              "      border-right-color: var(--fill-color);\n",
              "    }\n",
              "    40% {\n",
              "      border-color: transparent;\n",
              "      border-right-color: var(--fill-color);\n",
              "      border-top-color: var(--fill-color);\n",
              "    }\n",
              "    60% {\n",
              "      border-color: transparent;\n",
              "      border-right-color: var(--fill-color);\n",
              "    }\n",
              "    80% {\n",
              "      border-color: transparent;\n",
              "      border-right-color: var(--fill-color);\n",
              "      border-bottom-color: var(--fill-color);\n",
              "    }\n",
              "    90% {\n",
              "      border-color: transparent;\n",
              "      border-bottom-color: var(--fill-color);\n",
              "    }\n",
              "  }\n",
              "</style>\n",
              "\n",
              "  <script>\n",
              "    async function quickchart(key) {\n",
              "      const quickchartButtonEl =\n",
              "        document.querySelector('#' + key + ' button');\n",
              "      quickchartButtonEl.disabled = true;  // To prevent multiple clicks.\n",
              "      quickchartButtonEl.classList.add('colab-df-spinner');\n",
              "      try {\n",
              "        const charts = await google.colab.kernel.invokeFunction(\n",
              "            'suggestCharts', [key], {});\n",
              "      } catch (error) {\n",
              "        console.error('Error during call to suggestCharts:', error);\n",
              "      }\n",
              "      quickchartButtonEl.classList.remove('colab-df-spinner');\n",
              "      quickchartButtonEl.classList.add('colab-df-quickchart-complete');\n",
              "    }\n",
              "    (() => {\n",
              "      let quickchartButtonEl =\n",
              "        document.querySelector('#df-503cda39-8915-4b6e-8419-568d54cd6a5b button');\n",
              "      quickchartButtonEl.style.display =\n",
              "        google.colab.kernel.accessAllowed ? 'block' : 'none';\n",
              "    })();\n",
              "  </script>\n",
              "</div>\n",
              "\n",
              "    </div>\n",
              "  </div>\n"
            ],
            "application/vnd.google.colaboratory.intrinsic+json": {
              "type": "dataframe",
              "summary": "{\n  \"name\": \"df_balanced\",\n  \"rows\": 5,\n  \"fields\": [\n    {\n      \"column\": \"Category\",\n      \"properties\": {\n        \"dtype\": \"category\",\n        \"num_unique_values\": 2,\n        \"samples\": [\n          \"spam\",\n          \"ham\"\n        ],\n        \"semantic_type\": \"\",\n        \"description\": \"\"\n      }\n    },\n    {\n      \"column\": \"Message\",\n      \"properties\": {\n        \"dtype\": \"string\",\n        \"num_unique_values\": 5,\n        \"samples\": [\n          \"Yeah my usual guy's out of town but there're definitely people around I know\",\n          \"5 Free Top Polyphonic Tones call 087018728737, National Rate. Get a toppoly tune sent every week, just text SUBPOLY to 81618, \\u00a33 per pole. UnSub 08718727870.\"\n        ],\n        \"semantic_type\": \"\",\n        \"description\": \"\"\n      }\n    },\n    {\n      \"column\": \"spam\",\n      \"properties\": {\n        \"dtype\": \"number\",\n        \"std\": 0,\n        \"min\": 0,\n        \"max\": 1,\n        \"num_unique_values\": 2,\n        \"samples\": [\n          1,\n          0\n        ],\n        \"semantic_type\": \"\",\n        \"description\": \"\"\n      }\n    }\n  ]\n}"
            }
          },
          "metadata": {},
          "execution_count": 13
        }
      ]
    },
    {
      "cell_type": "code",
      "source": [
        "\n"
      ],
      "metadata": {
        "id": "IsralTYBYzTf"
      },
      "execution_count": 13,
      "outputs": []
    },
    {
      "cell_type": "markdown",
      "source": [
        "# Split it into training and test data set\n"
      ],
      "metadata": {
        "id": "HjDg_kFUbWrV"
      }
    },
    {
      "cell_type": "code",
      "source": [
        "from sklearn.model_selection import train_test_split\n",
        "\n",
        "X_train, X_test, y_train, y_test = train_test_split( df_balanced['Message'], df_balanced['spam'], stratify= df_balanced['spam'])\n",
        "# \\ stratify to make sure equal distribution of sample"
      ],
      "metadata": {
        "id": "3dX8cogBYzXE"
      },
      "execution_count": 14,
      "outputs": []
    },
    {
      "cell_type": "code",
      "source": [],
      "metadata": {
        "id": "zBk9cGHgYza2"
      },
      "execution_count": 14,
      "outputs": []
    },
    {
      "cell_type": "code",
      "source": [
        "X_train.head(4)\n"
      ],
      "metadata": {
        "colab": {
          "base_uri": "https://localhost:8080/"
        },
        "id": "i_nFuxLZYzen",
        "outputId": "a5ce777c-7f6d-4bc1-cc97-c41f1a0a7a99"
      },
      "execution_count": 15,
      "outputs": [
        {
          "output_type": "execute_result",
          "data": {
            "text/plain": [
              "2485    Only if you promise your getting out as SOON a...\n",
              "1300    Great to hear you are settling well. So what's...\n",
              "2003    TheMob>Yo yo yo-Here comes a new selection of ...\n",
              "3612                     No. I.ll meet you in the library\n",
              "Name: Message, dtype: object"
            ]
          },
          "metadata": {},
          "execution_count": 15
        }
      ]
    },
    {
      "cell_type": "code",
      "source": [],
      "metadata": {
        "id": "D9tr59vBYzjL"
      },
      "execution_count": 15,
      "outputs": []
    },
    {
      "cell_type": "markdown",
      "source": [
        "# Now lets import BERT model and get embeding vectors for few sample statements\n"
      ],
      "metadata": {
        "id": "y_IzYuxZbswU"
      }
    },
    {
      "cell_type": "code",
      "source": [
        "bert_preprocess = hub.KerasLayer(\"https://tfhub.dev/tensorflow/bert_en_uncased_preprocess/3\")\n",
        "bert_encoder = hub.KerasLayer(\"https://tfhub.dev/tensorflow/bert_en_uncased_L-12_H-768_A-12/4\")"
      ],
      "metadata": {
        "id": "LU04212RYznK"
      },
      "execution_count": 16,
      "outputs": []
    },
    {
      "cell_type": "code",
      "source": [],
      "metadata": {
        "id": "d1IjkiW2Yzqx"
      },
      "execution_count": 16,
      "outputs": []
    },
    {
      "cell_type": "code",
      "source": [
        "best_preprocess_model = hub.KerasLayer(bert_preprocess)\n",
        "\n",
        "\n",
        "text = [\"nice movie indeed\"]\n",
        "\n",
        "text_preprocessed = best_preprocess_model(text)\n"
      ],
      "metadata": {
        "id": "HtSzux_schZR"
      },
      "execution_count": 17,
      "outputs": []
    },
    {
      "cell_type": "code",
      "source": [
        "text_preprocessed"
      ],
      "metadata": {
        "colab": {
          "base_uri": "https://localhost:8080/"
        },
        "id": "KKtKXOQfchS_",
        "outputId": "089f7d0f-b16a-4226-da84-b279a92ebfd4"
      },
      "execution_count": 18,
      "outputs": [
        {
          "output_type": "execute_result",
          "data": {
            "text/plain": [
              "{'input_word_ids': <tf.Tensor: shape=(1, 128), dtype=int32, numpy=\n",
              " array([[ 101, 3835, 3185, 5262,  102,    0,    0,    0,    0,    0,    0,\n",
              "            0,    0,    0,    0,    0,    0,    0,    0,    0,    0,    0,\n",
              "            0,    0,    0,    0,    0,    0,    0,    0,    0,    0,    0,\n",
              "            0,    0,    0,    0,    0,    0,    0,    0,    0,    0,    0,\n",
              "            0,    0,    0,    0,    0,    0,    0,    0,    0,    0,    0,\n",
              "            0,    0,    0,    0,    0,    0,    0,    0,    0,    0,    0,\n",
              "            0,    0,    0,    0,    0,    0,    0,    0,    0,    0,    0,\n",
              "            0,    0,    0,    0,    0,    0,    0,    0,    0,    0,    0,\n",
              "            0,    0,    0,    0,    0,    0,    0,    0,    0,    0,    0,\n",
              "            0,    0,    0,    0,    0,    0,    0,    0,    0,    0,    0,\n",
              "            0,    0,    0,    0,    0,    0,    0,    0,    0,    0,    0,\n",
              "            0,    0,    0,    0,    0,    0,    0]], dtype=int32)>,\n",
              " 'input_type_ids': <tf.Tensor: shape=(1, 128), dtype=int32, numpy=\n",
              " array([[0, 0, 0, 0, 0, 0, 0, 0, 0, 0, 0, 0, 0, 0, 0, 0, 0, 0, 0, 0, 0, 0,\n",
              "         0, 0, 0, 0, 0, 0, 0, 0, 0, 0, 0, 0, 0, 0, 0, 0, 0, 0, 0, 0, 0, 0,\n",
              "         0, 0, 0, 0, 0, 0, 0, 0, 0, 0, 0, 0, 0, 0, 0, 0, 0, 0, 0, 0, 0, 0,\n",
              "         0, 0, 0, 0, 0, 0, 0, 0, 0, 0, 0, 0, 0, 0, 0, 0, 0, 0, 0, 0, 0, 0,\n",
              "         0, 0, 0, 0, 0, 0, 0, 0, 0, 0, 0, 0, 0, 0, 0, 0, 0, 0, 0, 0, 0, 0,\n",
              "         0, 0, 0, 0, 0, 0, 0, 0, 0, 0, 0, 0, 0, 0, 0, 0, 0, 0]],\n",
              "       dtype=int32)>,\n",
              " 'input_mask': <tf.Tensor: shape=(1, 128), dtype=int32, numpy=\n",
              " array([[1, 1, 1, 1, 1, 0, 0, 0, 0, 0, 0, 0, 0, 0, 0, 0, 0, 0, 0, 0, 0, 0,\n",
              "         0, 0, 0, 0, 0, 0, 0, 0, 0, 0, 0, 0, 0, 0, 0, 0, 0, 0, 0, 0, 0, 0,\n",
              "         0, 0, 0, 0, 0, 0, 0, 0, 0, 0, 0, 0, 0, 0, 0, 0, 0, 0, 0, 0, 0, 0,\n",
              "         0, 0, 0, 0, 0, 0, 0, 0, 0, 0, 0, 0, 0, 0, 0, 0, 0, 0, 0, 0, 0, 0,\n",
              "         0, 0, 0, 0, 0, 0, 0, 0, 0, 0, 0, 0, 0, 0, 0, 0, 0, 0, 0, 0, 0, 0,\n",
              "         0, 0, 0, 0, 0, 0, 0, 0, 0, 0, 0, 0, 0, 0, 0, 0, 0, 0]],\n",
              "       dtype=int32)>}"
            ]
          },
          "metadata": {},
          "execution_count": 18
        }
      ]
    },
    {
      "cell_type": "markdown",
      "source": [
        "# Explanation\n",
        "\n",
        "# shape=(1, 128)\n",
        "\n",
        "Is because we have paseed only 1 sentence and 128 is the maximum length_of_indexer\n",
        "\n",
        "#  array([[ 101, 3835, 3185, 5262,  102,   remaining upto 128 are 0 because of padding\n",
        "\n",
        "We passed 3 words in a sentence but returned 5 tokens in the Masking\n",
        "\n",
        "because BERT has special component called 'CLS' and 'SEP' which has the fixed ID as 101, 102 an will get automatically added CLS in the beginning and SEP at the end of the words passed"
      ],
      "metadata": {
        "id": "yu4_GSo7chNR"
      }
    },
    {
      "cell_type": "code",
      "source": [],
      "metadata": {
        "id": "64jNhSnbchHP"
      },
      "execution_count": 18,
      "outputs": []
    },
    {
      "cell_type": "code",
      "source": [
        "text_preprocessed.keys()"
      ],
      "metadata": {
        "colab": {
          "base_uri": "https://localhost:8080/"
        },
        "id": "FHtqT-WJcg-r",
        "outputId": "943bdde7-cd4e-43e1-bd3f-84ab2b7e021c"
      },
      "execution_count": 19,
      "outputs": [
        {
          "output_type": "execute_result",
          "data": {
            "text/plain": [
              "dict_keys(['input_word_ids', 'input_type_ids', 'input_mask'])"
            ]
          },
          "metadata": {},
          "execution_count": 19
        }
      ]
    },
    {
      "cell_type": "code",
      "source": [
        "text_preprocessed['input_word_ids']"
      ],
      "metadata": {
        "colab": {
          "base_uri": "https://localhost:8080/"
        },
        "id": "DD2v5T2veoSZ",
        "outputId": "b89aab0f-9d40-44c8-a398-d4464ca9be36"
      },
      "execution_count": 20,
      "outputs": [
        {
          "output_type": "execute_result",
          "data": {
            "text/plain": [
              "<tf.Tensor: shape=(1, 128), dtype=int32, numpy=\n",
              "array([[ 101, 3835, 3185, 5262,  102,    0,    0,    0,    0,    0,    0,\n",
              "           0,    0,    0,    0,    0,    0,    0,    0,    0,    0,    0,\n",
              "           0,    0,    0,    0,    0,    0,    0,    0,    0,    0,    0,\n",
              "           0,    0,    0,    0,    0,    0,    0,    0,    0,    0,    0,\n",
              "           0,    0,    0,    0,    0,    0,    0,    0,    0,    0,    0,\n",
              "           0,    0,    0,    0,    0,    0,    0,    0,    0,    0,    0,\n",
              "           0,    0,    0,    0,    0,    0,    0,    0,    0,    0,    0,\n",
              "           0,    0,    0,    0,    0,    0,    0,    0,    0,    0,    0,\n",
              "           0,    0,    0,    0,    0,    0,    0,    0,    0,    0,    0,\n",
              "           0,    0,    0,    0,    0,    0,    0,    0,    0,    0,    0,\n",
              "           0,    0,    0,    0,    0,    0,    0,    0,    0,    0,    0,\n",
              "           0,    0,    0,    0,    0,    0,    0]], dtype=int32)>"
            ]
          },
          "metadata": {},
          "execution_count": 20
        }
      ]
    },
    {
      "cell_type": "code",
      "source": [
        "text_preprocessed['input_type_ids']"
      ],
      "metadata": {
        "colab": {
          "base_uri": "https://localhost:8080/"
        },
        "id": "WTScGXreeouH",
        "outputId": "24ba8893-2c35-463e-b6f4-3e9099e0a236"
      },
      "execution_count": 21,
      "outputs": [
        {
          "output_type": "execute_result",
          "data": {
            "text/plain": [
              "<tf.Tensor: shape=(1, 128), dtype=int32, numpy=\n",
              "array([[0, 0, 0, 0, 0, 0, 0, 0, 0, 0, 0, 0, 0, 0, 0, 0, 0, 0, 0, 0, 0, 0,\n",
              "        0, 0, 0, 0, 0, 0, 0, 0, 0, 0, 0, 0, 0, 0, 0, 0, 0, 0, 0, 0, 0, 0,\n",
              "        0, 0, 0, 0, 0, 0, 0, 0, 0, 0, 0, 0, 0, 0, 0, 0, 0, 0, 0, 0, 0, 0,\n",
              "        0, 0, 0, 0, 0, 0, 0, 0, 0, 0, 0, 0, 0, 0, 0, 0, 0, 0, 0, 0, 0, 0,\n",
              "        0, 0, 0, 0, 0, 0, 0, 0, 0, 0, 0, 0, 0, 0, 0, 0, 0, 0, 0, 0, 0, 0,\n",
              "        0, 0, 0, 0, 0, 0, 0, 0, 0, 0, 0, 0, 0, 0, 0, 0, 0, 0]],\n",
              "      dtype=int32)>"
            ]
          },
          "metadata": {},
          "execution_count": 21
        }
      ]
    },
    {
      "cell_type": "code",
      "source": [
        "text_preprocessed['input_mask']"
      ],
      "metadata": {
        "colab": {
          "base_uri": "https://localhost:8080/"
        },
        "id": "gZuRP1oleo0c",
        "outputId": "d849902e-c80f-4ad5-e5e2-2ec8dcb061e7"
      },
      "execution_count": 22,
      "outputs": [
        {
          "output_type": "execute_result",
          "data": {
            "text/plain": [
              "<tf.Tensor: shape=(1, 128), dtype=int32, numpy=\n",
              "array([[1, 1, 1, 1, 1, 0, 0, 0, 0, 0, 0, 0, 0, 0, 0, 0, 0, 0, 0, 0, 0, 0,\n",
              "        0, 0, 0, 0, 0, 0, 0, 0, 0, 0, 0, 0, 0, 0, 0, 0, 0, 0, 0, 0, 0, 0,\n",
              "        0, 0, 0, 0, 0, 0, 0, 0, 0, 0, 0, 0, 0, 0, 0, 0, 0, 0, 0, 0, 0, 0,\n",
              "        0, 0, 0, 0, 0, 0, 0, 0, 0, 0, 0, 0, 0, 0, 0, 0, 0, 0, 0, 0, 0, 0,\n",
              "        0, 0, 0, 0, 0, 0, 0, 0, 0, 0, 0, 0, 0, 0, 0, 0, 0, 0, 0, 0, 0, 0,\n",
              "        0, 0, 0, 0, 0, 0, 0, 0, 0, 0, 0, 0, 0, 0, 0, 0, 0, 0]],\n",
              "      dtype=int32)>"
            ]
          },
          "metadata": {},
          "execution_count": 22
        }
      ]
    },
    {
      "cell_type": "code",
      "source": [],
      "metadata": {
        "id": "oEVr7svBYzzY"
      },
      "execution_count": 22,
      "outputs": []
    },
    {
      "cell_type": "markdown",
      "source": [
        "# BERT Model"
      ],
      "metadata": {
        "id": "yXII8g3PYz2-"
      }
    },
    {
      "cell_type": "code",
      "source": [
        "model = hub.KerasLayer(bert_encoder)\n",
        "\n",
        "# supply preprocessed text\n",
        "\n",
        "results = model(text_preprocessed)"
      ],
      "metadata": {
        "id": "TksdfBtEYz7O"
      },
      "execution_count": 23,
      "outputs": []
    },
    {
      "cell_type": "code",
      "source": [
        "results.keys()"
      ],
      "metadata": {
        "colab": {
          "base_uri": "https://localhost:8080/"
        },
        "id": "l0DsGoJpYz_S",
        "outputId": "df2983e1-4994-41c9-9318-20b1d5b68b47"
      },
      "execution_count": 24,
      "outputs": [
        {
          "output_type": "execute_result",
          "data": {
            "text/plain": [
              "dict_keys(['sequence_output', 'encoder_outputs', 'default', 'pooled_output'])"
            ]
          },
          "metadata": {},
          "execution_count": 24
        }
      ]
    },
    {
      "cell_type": "code",
      "source": [
        "results['pooled_output']\n",
        "\n",
        "#  This represents each input sequence as a whole. The shape is (batch_size, H).\n",
        "\n",
        "#  shape=(1, 768)\n",
        "\n",
        "# We have 1 sentence passed and the maximum embeddings(unique numbers for similar words ) is 768\n",
        "# which accurately represnts the given sentence"
      ],
      "metadata": {
        "colab": {
          "base_uri": "https://localhost:8080/"
        },
        "id": "TPKImaoZY0DY",
        "outputId": "de90f71d-2371-409b-f25e-776d76b83e9c"
      },
      "execution_count": 25,
      "outputs": [
        {
          "output_type": "execute_result",
          "data": {
            "text/plain": [
              "<tf.Tensor: shape=(1, 768), dtype=float32, numpy=\n",
              "array([[-7.91773856e-01, -2.14119092e-01,  4.97694999e-01,\n",
              "         4.73431796e-01, -1.80652291e-01, -8.33084732e-02,\n",
              "         8.14969540e-01,  1.44600809e-01,  2.04916120e-01,\n",
              "        -9.99240041e-01,  1.36825517e-01,  8.30048323e-03,\n",
              "         9.51741576e-01, -3.63364667e-01,  8.72413635e-01,\n",
              "        -4.07976568e-01, -3.00641861e-02, -4.13878918e-01,\n",
              "         2.43135571e-01, -6.50724053e-01,  4.46718186e-01,\n",
              "         7.56984770e-01,  5.95490694e-01,  1.58233672e-01,\n",
              "         2.40729541e-01,  1.85461193e-01, -5.00944316e-01,\n",
              "         8.72952282e-01,  9.05975044e-01,  5.36843598e-01,\n",
              "        -5.62124133e-01,  9.55323577e-02, -9.55684125e-01,\n",
              "        -8.73648748e-02,  5.06407499e-01, -9.52129483e-01,\n",
              "         6.01504706e-02, -6.85674369e-01,  6.50394559e-02,\n",
              "         2.19803806e-02, -8.37848842e-01,  1.31664664e-01,\n",
              "         9.86527085e-01, -3.81034732e-01, -1.99163452e-01,\n",
              "        -2.51670927e-01, -9.98164058e-01,  1.07079916e-01,\n",
              "        -7.86918461e-01, -3.92053127e-01, -2.68120080e-01,\n",
              "        -5.12088239e-01,  6.53306842e-02,  2.76707113e-01,\n",
              "         2.41417751e-01,  4.82246697e-01, -1.84257284e-01,\n",
              "         4.68178205e-02, -9.91879869e-03, -4.41179603e-01,\n",
              "        -5.07516146e-01,  1.02841236e-01,  1.62792072e-01,\n",
              "        -8.47222328e-01, -3.39589030e-01, -5.59101701e-01,\n",
              "        -2.83390358e-02, -1.42712027e-01,  1.49695501e-02,\n",
              "        -2.84497086e-02,  7.38820195e-01,  1.03922226e-01,\n",
              "         3.35900486e-01, -7.16029108e-01, -4.88622755e-01,\n",
              "         8.83271620e-02, -3.07956874e-01,  9.99954402e-01,\n",
              "        -2.31576130e-01, -9.41488385e-01, -3.41892481e-01,\n",
              "        -3.37109983e-01,  2.20050067e-01,  5.78710079e-01,\n",
              "        -5.52774727e-01, -9.99730170e-01,  2.54279256e-01,\n",
              "         1.05414335e-02, -9.72616136e-01,  1.20836824e-01,\n",
              "         2.95919061e-01, -1.20467857e-01, -5.45695364e-01,\n",
              "         2.10033759e-01, -9.94440913e-02,  3.56055447e-03,\n",
              "        -1.32602662e-01,  3.40033889e-01, -2.59193555e-02,\n",
              "         1.29423440e-01, -1.11821659e-01, -1.12267844e-01,\n",
              "         1.03173271e-01, -1.74657807e-01,  3.85762639e-02,\n",
              "        -2.45006680e-01, -2.99907714e-01,  2.50575542e-01,\n",
              "        -2.96538889e-01,  4.77084935e-01,  2.06439480e-01,\n",
              "        -1.62503734e-01,  1.80190936e-01, -9.17238474e-01,\n",
              "         5.03255785e-01, -1.13711312e-01, -9.48557973e-01,\n",
              "        -2.93137699e-01, -9.65898037e-01,  5.34105897e-01,\n",
              "         1.15475766e-01, -8.80903155e-02,  9.13192391e-01,\n",
              "         6.06825888e-01,  1.57537892e-01,  7.97774792e-02,\n",
              "         4.32728529e-01, -9.99979913e-01, -2.08415478e-01,\n",
              "         8.68633576e-03,  2.37644956e-01,  1.09877558e-02,\n",
              "        -9.34372187e-01, -8.98838758e-01,  4.07036245e-01,\n",
              "         9.15152073e-01, -1.30110336e-02,  9.81194317e-01,\n",
              "        -1.13565192e-01,  8.55104566e-01,  1.80821657e-01,\n",
              "        -4.81336378e-03, -2.84859091e-01, -2.79501170e-01,\n",
              "         1.19627185e-01,  2.14574277e-01, -5.36996782e-01,\n",
              "         1.36196733e-01,  2.09289685e-01, -1.83880970e-01,\n",
              "         1.13874279e-01, -1.21151671e-01,  3.47135842e-01,\n",
              "        -8.84506464e-01, -3.06717008e-01,  8.86797547e-01,\n",
              "         2.39825070e-01,  4.77077365e-01,  6.17825925e-01,\n",
              "        -9.92898121e-02, -1.93388060e-01,  7.09312379e-01,\n",
              "         1.31837636e-01,  2.20941335e-01,  6.98423833e-02,\n",
              "         2.26201192e-01, -2.52426714e-01,  2.92800188e-01,\n",
              "        -6.77987933e-01,  2.59352595e-01,  2.63723493e-01,\n",
              "        -8.87747779e-02,  4.29655612e-01, -9.41664934e-01,\n",
              "        -1.54309139e-01,  3.28170210e-01,  9.61236417e-01,\n",
              "         6.09754026e-01,  7.18220845e-02, -8.97155330e-02,\n",
              "        -9.26781446e-02,  1.00710899e-01, -8.82935524e-01,\n",
              "         9.35062289e-01, -8.31905380e-02,  1.64564297e-01,\n",
              "         4.57009494e-01, -2.10074726e-02, -7.68037796e-01,\n",
              "        -5.12790978e-01,  7.03778267e-01, -6.20459765e-03,\n",
              "        -7.35839963e-01,  1.26278877e-01, -3.58198583e-01,\n",
              "        -2.66682684e-01,  2.33262584e-01,  3.47863048e-01,\n",
              "        -2.09502682e-01, -2.70532429e-01,  1.41287697e-02,\n",
              "         8.59786093e-01,  9.21734989e-01,  6.56452537e-01,\n",
              "        -5.61921597e-01,  2.95114398e-01, -8.44119191e-01,\n",
              "        -2.70317674e-01, -2.97395955e-03,  1.39767110e-01,\n",
              "         6.81434423e-02,  9.80938494e-01,  3.05200875e-01,\n",
              "        -4.87424508e-02, -8.54879022e-01, -9.61525381e-01,\n",
              "        -3.40271145e-02, -7.97254860e-01,  2.11569723e-02,\n",
              "        -4.86237258e-01,  5.25775291e-02,  6.08194649e-01,\n",
              "        -1.28799647e-01,  2.09340692e-01, -9.61517096e-01,\n",
              "        -6.68338656e-01,  1.91929087e-01, -1.13421239e-01,\n",
              "         2.41986454e-01, -9.58954468e-02,  1.37119722e-02,\n",
              "        -2.27977484e-01, -3.41757327e-01,  7.22844899e-01,\n",
              "         7.39265263e-01,  4.83173430e-01, -5.31844139e-01,\n",
              "         7.03667343e-01, -1.77818999e-01,  7.69865751e-01,\n",
              "        -4.07417238e-01,  9.22388911e-01, -1.34905294e-01,\n",
              "         3.44897479e-01, -8.54882360e-01,  4.44449544e-01,\n",
              "        -8.31748307e-01,  1.95156306e-01, -8.46904367e-02,\n",
              "        -6.69413686e-01, -2.77333438e-01,  2.35516429e-01,\n",
              "         1.75360799e-01,  7.77578473e-01, -2.96629310e-01,\n",
              "         9.83148873e-01, -1.17597722e-01, -8.90577734e-01,\n",
              "         9.37112793e-02,  8.31729695e-02, -9.55904484e-01,\n",
              "        -2.61754483e-01,  2.27863669e-01, -6.45830631e-01,\n",
              "        -1.91339016e-01, -2.10099310e-01, -8.94523680e-01,\n",
              "         7.83507228e-01,  2.74964031e-02,  9.58396316e-01,\n",
              "         1.88522905e-01, -8.03715169e-01, -1.89585716e-01,\n",
              "        -8.00720215e-01, -2.57286817e-01,  1.37634110e-02,\n",
              "         5.86316586e-01, -2.09001526e-01, -9.14763629e-01,\n",
              "         3.03723246e-01,  3.69081050e-01,  2.32708633e-01,\n",
              "         5.56209266e-01,  9.82058048e-01,  9.89278913e-01,\n",
              "         9.40122128e-01,  7.83998013e-01,  8.02498162e-01,\n",
              "        -5.28638422e-01, -8.32529441e-02,  9.99632001e-01,\n",
              "        -1.99506462e-01, -9.99128759e-01, -8.78294587e-01,\n",
              "        -4.75710362e-01,  2.25826621e-01, -9.99974966e-01,\n",
              "        -2.14802343e-02,  6.86972737e-02, -8.45661402e-01,\n",
              "        -4.38658416e-01,  9.45182145e-01,  9.60342467e-01,\n",
              "        -9.99910235e-01,  7.55790293e-01,  8.85257840e-01,\n",
              "        -3.12887311e-01,  1.38682663e-01,  1.75151993e-02,\n",
              "         9.34909821e-01,  2.43718743e-01,  2.23771423e-01,\n",
              "        -3.99753079e-02,  2.10190937e-01,  1.72873080e-01,\n",
              "        -7.21186578e-01,  4.63625878e-01,  4.68464494e-01,\n",
              "         1.25069797e-01,  5.68856597e-02, -4.81618285e-01,\n",
              "        -8.60778987e-01, -3.43237817e-01, -1.23260245e-01,\n",
              "        -3.48160446e-01, -9.05414402e-01,  5.31398179e-03,\n",
              "        -3.42670739e-01,  4.90179390e-01, -1.57639675e-03,\n",
              "         3.17711160e-02, -6.63433194e-01,  1.05887957e-01,\n",
              "        -6.62541687e-01,  2.28223652e-01,  3.85624737e-01,\n",
              "        -8.69750142e-01, -4.68842626e-01, -2.23282948e-01,\n",
              "        -4.38635230e-01,  3.88608098e-01, -8.90622914e-01,\n",
              "         9.35678124e-01, -2.40472108e-01, -2.77928323e-01,\n",
              "         9.99944270e-01, -3.41955245e-01, -7.70352900e-01,\n",
              "         1.66718751e-01,  4.14998643e-02, -2.62186769e-02,\n",
              "         9.99846578e-01,  2.15616107e-01, -9.42698300e-01,\n",
              "        -2.52623379e-01, -2.80178692e-02, -2.65500337e-01,\n",
              "        -1.16498746e-01,  9.89864826e-01, -8.19349065e-02,\n",
              "         3.91905457e-01,  5.48289239e-01,  9.11557257e-01,\n",
              "        -9.61254060e-01,  3.13632190e-05, -8.23026299e-01,\n",
              "        -9.19989347e-01,  9.27457690e-01,  8.74515355e-01,\n",
              "        -4.94720042e-02, -4.69823718e-01,  1.34552065e-02,\n",
              "         2.38749176e-01,  1.42865136e-01, -9.27564979e-01,\n",
              "         4.91486967e-01,  2.99332172e-01, -6.40325099e-02,\n",
              "         8.21103990e-01, -7.97088802e-01, -2.53255934e-01,\n",
              "         3.05012912e-01, -2.64873356e-02,  2.65379429e-01,\n",
              "        -4.14405316e-01,  2.84017980e-01, -1.18955538e-01,\n",
              "         1.21779451e-02, -1.71672001e-01,  1.94640115e-01,\n",
              "        -9.45607603e-01, -1.50069013e-01,  9.99844491e-01,\n",
              "         6.51655570e-02, -6.16242528e-01, -5.92501983e-02,\n",
              "         3.24359611e-02, -3.48848253e-01,  1.81669623e-01,\n",
              "         2.70156711e-01, -2.10832119e-01, -7.18057156e-01,\n",
              "        -2.25577474e-01, -8.56356919e-01, -9.49268699e-01,\n",
              "         6.76108956e-01,  1.72875479e-01, -1.26074418e-01,\n",
              "         9.86276925e-01,  1.26073778e-01,  4.60283756e-02,\n",
              "        -1.43628895e-01,  3.76110338e-02, -6.84118941e-02,\n",
              "         5.02648532e-01, -5.34930229e-01,  9.17494833e-01,\n",
              "        -1.35026470e-01,  2.35816866e-01,  7.51147687e-01,\n",
              "         3.76338452e-01, -1.58582032e-01, -4.92263347e-01,\n",
              "         1.53147150e-02, -8.08701754e-01,  1.01418197e-01,\n",
              "        -8.99161816e-01,  9.11437869e-01, -4.36452031e-01,\n",
              "         1.36482507e-01,  5.09162769e-02, -3.07009667e-01,\n",
              "         9.99911010e-01,  2.93395728e-01,  4.42912012e-01,\n",
              "        -4.99043584e-01,  7.62613416e-01, -5.50273240e-01,\n",
              "        -5.51401377e-01, -2.46138379e-01,  7.60558471e-02,\n",
              "         4.83317256e-01, -7.58830458e-02,  1.39115363e-01,\n",
              "        -9.27418590e-01, -4.05549914e-01, -3.16642016e-01,\n",
              "        -9.41766322e-01, -9.68864083e-01,  5.03707469e-01,\n",
              "         6.01130128e-01, -5.93522303e-02,  3.33274789e-02,\n",
              "        -4.46002901e-01, -4.34534937e-01,  5.53482287e-02,\n",
              "        -8.87925401e-02, -8.90049934e-01,  5.91310620e-01,\n",
              "        -1.26893491e-01,  3.34148258e-01, -1.55161202e-01,\n",
              "         2.75232613e-01, -5.15157521e-01,  8.19547117e-01,\n",
              "         5.54468393e-01,  2.37472355e-01, -3.38204056e-02,\n",
              "        -6.75975382e-01,  6.18630946e-01, -6.54811859e-01,\n",
              "         3.73394728e-01, -4.35037054e-02,  9.99968171e-01,\n",
              "        -1.67473525e-01, -3.14291209e-01,  5.54332733e-01,\n",
              "         5.71873546e-01,  1.18399574e-03,  4.95407991e-02,\n",
              "        -3.83176774e-01,  4.56102565e-02,  4.88401830e-01,\n",
              "         5.14206588e-01, -6.94008470e-01, -1.24175571e-01,\n",
              "         2.67397553e-01, -5.77638209e-01, -5.12039602e-01,\n",
              "         6.44984186e-01, -6.27669469e-02,  2.15176474e-02,\n",
              "         6.35890961e-02, -2.93106697e-02,  9.94260728e-01,\n",
              "        -1.20256506e-02, -6.26767874e-02, -3.35089743e-01,\n",
              "         1.42385796e-01, -1.78101912e-01, -4.46418047e-01,\n",
              "         9.99518991e-01,  2.46960953e-01, -2.94683278e-01,\n",
              "        -9.67229068e-01,  4.06585306e-01, -8.22206676e-01,\n",
              "         9.73353207e-01,  6.95527017e-01, -7.62623489e-01,\n",
              "         2.97503203e-01,  2.49431491e-01, -4.98324744e-02,\n",
              "         5.94067752e-01, -6.90308213e-02, -1.77186787e-01,\n",
              "         3.53026465e-02,  5.81331588e-02,  9.07829642e-01,\n",
              "        -2.93327302e-01, -9.11568522e-01, -4.30490583e-01,\n",
              "         1.63951769e-01, -9.04157519e-01,  5.30569732e-01,\n",
              "        -3.21962446e-01,  6.62977016e-03, -1.66918337e-01,\n",
              "         3.73077929e-01,  7.14192271e-01, -7.90546313e-02,\n",
              "        -9.49292302e-01, -9.79638752e-03, -5.87977879e-02,\n",
              "         9.10730898e-01,  3.83146554e-02, -2.36383900e-01,\n",
              "        -8.20472896e-01, -3.89099211e-01, -1.74250796e-01,\n",
              "         4.46884692e-01, -8.98651361e-01,  9.24079597e-01,\n",
              "        -9.57416892e-01,  2.11923301e-01,  9.99312818e-01,\n",
              "         1.95457906e-01, -6.57399833e-01,  7.59341940e-02,\n",
              "        -2.17355013e-01,  1.30798772e-01,  2.64493585e-01,\n",
              "         4.18090940e-01, -9.13053632e-01, -1.75681159e-01,\n",
              "        -2.15979554e-02,  1.66695938e-01, -5.74146733e-02,\n",
              "         4.24125463e-01,  4.95436519e-01,  8.27122182e-02,\n",
              "        -1.83425382e-01, -4.16369468e-01,  2.38397717e-02,\n",
              "         2.59284973e-01,  5.17905056e-01, -2.26057976e-01,\n",
              "        -2.01518200e-02,  2.29716040e-02, -8.09181035e-02,\n",
              "        -8.38755667e-01, -6.22150265e-02, -1.07157916e-01,\n",
              "        -8.78180385e-01,  5.76268554e-01, -9.99950290e-01,\n",
              "        -4.23848867e-01, -5.96361935e-01, -1.16449758e-01,\n",
              "         7.15603173e-01,  5.68021229e-03, -2.05521941e-01,\n",
              "        -5.54940522e-01,  4.11236286e-01,  7.82235801e-01,\n",
              "         6.15934372e-01, -1.64104551e-02,  2.16384858e-01,\n",
              "        -5.20750165e-01,  5.06237373e-02,  3.43425050e-02,\n",
              "         1.57024264e-01,  2.56049931e-01,  6.04854107e-01,\n",
              "        -6.48414791e-02,  9.99974251e-01, -1.98383257e-02,\n",
              "        -1.26200974e-01, -9.33380187e-01,  1.52939871e-01,\n",
              "        -6.06813729e-02,  9.94934142e-01, -7.96938658e-01,\n",
              "        -8.86098802e-01,  1.24401085e-01, -2.90080816e-01,\n",
              "        -6.70863032e-01,  1.10585578e-01, -9.28634703e-02,\n",
              "        -4.99459743e-01,  1.95518464e-01,  9.09083366e-01,\n",
              "         7.66303003e-01, -3.08665991e-01,  1.00632027e-01,\n",
              "        -1.66610986e-01, -2.75781721e-01, -3.66752930e-02,\n",
              "        -4.55538094e-01,  9.67795908e-01,  3.42627496e-01,\n",
              "         7.57475495e-01,  5.23168445e-01,  2.32721016e-01,\n",
              "         9.06093657e-01,  3.32979634e-02,  4.15342748e-01,\n",
              "         4.69194958e-03,  9.99503553e-01,  1.18651330e-01,\n",
              "        -8.49400282e-01,  4.20897067e-01, -9.61208582e-01,\n",
              "        -6.96967542e-02, -8.99236381e-01,  1.49085343e-01,\n",
              "        -5.51155768e-02,  7.64419079e-01, -1.65530756e-01,\n",
              "         8.86499822e-01,  5.38429141e-01,  9.80024505e-03,\n",
              "         1.34428903e-01,  6.08944058e-01,  2.22243547e-01,\n",
              "        -8.55021179e-01, -9.61262941e-01, -9.66819465e-01,\n",
              "         1.35674134e-01, -3.28003377e-01,  1.75778847e-02,\n",
              "         1.89986378e-01,  1.25444293e-01,  2.31083155e-01,\n",
              "         2.49679431e-01, -9.99151289e-01,  8.65468562e-01,\n",
              "         2.57481962e-01, -4.54985678e-01,  9.12244856e-01,\n",
              "         1.55036926e-01,  4.64430526e-02,  1.83011353e-01,\n",
              "        -9.61706996e-01, -9.24584746e-01, -2.08539501e-01,\n",
              "        -1.70182019e-01,  6.14784777e-01,  3.41512591e-01,\n",
              "         7.47180939e-01,  2.02495873e-01, -3.91560018e-01,\n",
              "        -4.79167588e-02,  4.23092127e-01, -2.50145555e-01,\n",
              "        -9.78324592e-01,  2.69863725e-01,  3.57036948e-01,\n",
              "        -9.01376843e-01,  8.99236143e-01, -4.57535952e-01,\n",
              "        -6.95424601e-02,  6.40109897e-01,  1.68247089e-01,\n",
              "         8.81823421e-01,  6.52403355e-01,  3.48077744e-01,\n",
              "         6.26783893e-02,  3.32206279e-01,  8.06356013e-01,\n",
              "         8.81764889e-01,  9.61602747e-01,  3.10615569e-01,\n",
              "         5.93588531e-01,  4.01652783e-01,  2.46652111e-01,\n",
              "         2.47158512e-01, -8.80048811e-01, -1.18944934e-03,\n",
              "        -2.03212693e-01,  1.47778377e-01,  7.61957914e-02,\n",
              "        -5.21921404e-02, -9.21388805e-01,  1.01366438e-01,\n",
              "         1.63663477e-02,  3.12988907e-01, -2.00224385e-01,\n",
              "         1.97574377e-01, -3.02012324e-01, -1.04971819e-01,\n",
              "        -5.36961019e-01, -3.52113217e-01,  4.07730758e-01,\n",
              "         1.05686337e-01,  8.46849859e-01,  5.20757912e-03,\n",
              "        -2.36670161e-03, -3.62969071e-01, -4.79579903e-02,\n",
              "         4.34872687e-01, -8.69833529e-01,  8.57040942e-01,\n",
              "         6.59034476e-02,  5.12682676e-01, -4.99644935e-01,\n",
              "        -1.09138094e-01,  5.12152433e-01, -4.14683491e-01,\n",
              "        -2.17782229e-01, -1.54307678e-01, -5.46726167e-01,\n",
              "         7.20170617e-01,  4.06465754e-02, -2.99664676e-01,\n",
              "        -2.56077886e-01,  5.35955667e-01,  1.40492961e-01,\n",
              "         7.55868018e-01,  3.90020996e-01,  1.98472723e-01,\n",
              "         5.43789752e-02, -1.47025004e-01,  1.42857030e-01,\n",
              "        -5.26258163e-02, -9.99215066e-01,  2.39698991e-01,\n",
              "         1.77003652e-01, -3.68246824e-01,  1.68134406e-01,\n",
              "        -3.96601528e-01,  1.04682028e-01, -9.41351473e-01,\n",
              "         8.64110701e-03, -2.62564778e-01, -3.15286607e-01,\n",
              "        -4.20447290e-01, -2.46492237e-01,  2.62421042e-01,\n",
              "         3.56325954e-01,  7.85526168e-03,  7.98451185e-01,\n",
              "         2.42417842e-01,  6.08030200e-01,  3.27132553e-01,\n",
              "         2.44651809e-01, -4.73344684e-01,  8.17586780e-01]], dtype=float32)>"
            ]
          },
          "metadata": {},
          "execution_count": 25
        }
      ]
    },
    {
      "cell_type": "code",
      "source": [],
      "metadata": {
        "id": "6V1PCUcqhkXr"
      },
      "execution_count": 25,
      "outputs": []
    },
    {
      "cell_type": "code",
      "source": [
        "results['sequence_output']\n",
        "\n",
        "#  sequnence Outputs\n",
        "# : This represents each input token in the context. The shape is (batch_size, seq_length, H).\n",
        "# shape=(1, 128, 768),\n",
        "\n",
        "# each token in the sequnece have 768 hidden embeddings to give accrate results"
      ],
      "metadata": {
        "colab": {
          "base_uri": "https://localhost:8080/"
        },
        "id": "No7HnyHEgjqR",
        "outputId": "9da1c63d-fa75-4fce-97b3-51140e9f3bc6"
      },
      "execution_count": 26,
      "outputs": [
        {
          "output_type": "execute_result",
          "data": {
            "text/plain": [
              "<tf.Tensor: shape=(1, 128, 768), dtype=float32, numpy=\n",
              "array([[[ 0.07292062,  0.0856778 ,  0.1447685 , ..., -0.09677092,\n",
              "          0.08722138,  0.07711118],\n",
              "        [ 0.17839387, -0.19006082,  0.5034943 , ..., -0.05869817,\n",
              "          0.32717144, -0.15578564],\n",
              "        [ 0.18701456, -0.43388784, -0.48875132, ..., -0.15502763,\n",
              "          0.00145165, -0.2447095 ],\n",
              "        ...,\n",
              "        [ 0.12083055,  0.12884246,  0.46453553, ...,  0.07375517,\n",
              "          0.17441934,  0.16522156],\n",
              "        [ 0.07967898, -0.01190664,  0.50225395, ...,  0.13777721,\n",
              "          0.21002224,  0.00624594],\n",
              "        [-0.07212677, -0.28303456,  0.590334  , ...,  0.47551885,\n",
              "          0.16668522, -0.08920377]]], dtype=float32)>"
            ]
          },
          "metadata": {},
          "execution_count": 26
        }
      ]
    },
    {
      "cell_type": "code",
      "source": [],
      "metadata": {
        "id": "dszhZYFCgUSa"
      },
      "execution_count": 26,
      "outputs": []
    },
    {
      "cell_type": "code",
      "source": [
        "results['encoder_outputs']\n",
        "\n",
        "# encoder_outputs\n",
        "# : This represents the outputs of each encoder layer. The shape is (batch_size, seq_length, H).\n"
      ],
      "metadata": {
        "colab": {
          "base_uri": "https://localhost:8080/"
        },
        "id": "iVyLlzFuY0Hp",
        "outputId": "a008a28a-0e62-491f-c2aa-e5819c797d71"
      },
      "execution_count": 27,
      "outputs": [
        {
          "output_type": "execute_result",
          "data": {
            "text/plain": [
              "[<tf.Tensor: shape=(1, 128, 768), dtype=float32, numpy=\n",
              " array([[[ 0.12901421,  0.00644755, -0.03614964, ...,  0.04999626,\n",
              "           0.06149197, -0.02657553],\n",
              "         [ 1.1753379 ,  1.2140783 ,  1.1569979 , ...,  0.11634398,\n",
              "          -0.35855332, -0.4049018 ],\n",
              "         [ 0.0385902 ,  0.5386997 , -0.21089807, ...,  0.21858224,\n",
              "           0.72601664, -1.1158607 ],\n",
              "         ...,\n",
              "         [-0.07587017, -0.25421888,  0.70755106, ...,  0.5054204 ,\n",
              "          -0.1887868 ,  0.15028353],\n",
              "         [-0.16066614, -0.2808969 ,  0.57597053, ...,  0.5275854 ,\n",
              "          -0.11141373,  0.02887545],\n",
              "         [-0.04428158, -0.20279579,  0.5909355 , ...,  0.8133835 ,\n",
              "          -0.390758  , -0.02601755]]], dtype=float32)>,\n",
              " <tf.Tensor: shape=(1, 128, 768), dtype=float32, numpy=\n",
              " array([[[ 0.01418123, -0.22088237, -0.1502817 , ...,  0.11415627,\n",
              "           0.12618098,  0.04843384],\n",
              "         [ 1.20339   ,  1.3469863 ,  1.706453  , ...,  0.30610606,\n",
              "          -0.50742555, -0.5514745 ],\n",
              "         [ 0.4216905 ,  0.8110246 , -0.256316  , ..., -0.0772249 ,\n",
              "           0.89372385, -1.4472059 ],\n",
              "         ...,\n",
              "         [-0.19047487, -0.23860823,  0.81412053, ...,  0.9749361 ,\n",
              "          -0.34774235, -0.08733539],\n",
              "         [-0.2715102 , -0.31985015,  0.76593894, ...,  0.96761715,\n",
              "          -0.29511905, -0.15731797],\n",
              "         [-0.21302758, -0.19229683,  0.73387796, ...,  1.1040441 ,\n",
              "          -0.45102894, -0.20683096]]], dtype=float32)>,\n",
              " <tf.Tensor: shape=(1, 128, 768), dtype=float32, numpy=\n",
              " array([[[ 0.02275387, -0.27980232,  0.02345715, ...,  0.2786703 ,\n",
              "           0.11714803,  0.18175106],\n",
              "         [ 1.2574841 ,  0.8725079 ,  1.6266013 , ...,  0.45210966,\n",
              "          -0.8090258 , -0.54489815],\n",
              "         [ 0.75219834,  0.63573664, -0.20566162, ..., -0.32381788,\n",
              "           0.75749564, -1.4587922 ],\n",
              "         ...,\n",
              "         [-0.15107447, -0.21129093,  0.968946  , ...,  1.1261969 ,\n",
              "          -0.03214111, -0.22340232],\n",
              "         [-0.28125668, -0.31140122,  0.8432893 , ...,  1.1342682 ,\n",
              "          -0.08336598, -0.2516123 ],\n",
              "         [-0.24449064, -0.21537891,  0.94809806, ...,  1.2419428 ,\n",
              "          -0.19873476, -0.33752587]]], dtype=float32)>,\n",
              " <tf.Tensor: shape=(1, 128, 768), dtype=float32, numpy=\n",
              " array([[[ 0.11484901, -0.64441067, -0.14245124, ...,  0.25474182,\n",
              "           0.00378405,  0.61105126],\n",
              "         [ 1.3035423 ,  0.7706048 ,  1.3184998 , ...,  0.35822532,\n",
              "          -0.64121574, -0.32795367],\n",
              "         [ 1.1896739 ,  0.6279443 , -0.6750165 , ..., -0.2887067 ,\n",
              "           0.47791904, -1.2806    ],\n",
              "         ...,\n",
              "         [-0.22614838, -0.6276294 ,  1.022748  , ...,  0.82923174,\n",
              "          -0.40314704,  0.04389298],\n",
              "         [-0.3990152 , -0.7561912 ,  0.7489382 , ...,  0.74922705,\n",
              "          -0.4507767 , -0.00367941],\n",
              "         [-0.37728727, -0.7831041 ,  0.9057247 , ...,  0.9736232 ,\n",
              "          -0.4828571 , -0.0738984 ]]], dtype=float32)>,\n",
              " <tf.Tensor: shape=(1, 128, 768), dtype=float32, numpy=\n",
              " array([[[-0.22174846, -0.4222531 , -0.04924019, ..., -0.2628424 ,\n",
              "           0.06099949,  0.63794863],\n",
              "         [ 1.1627897 ,  0.67705375,  1.3072386 , ...,  0.2279466 ,\n",
              "          -0.5432957 , -0.27383292],\n",
              "         [ 1.5308232 ,  0.72225463, -0.43608704, ...,  0.2743587 ,\n",
              "           0.24980223, -0.9875377 ],\n",
              "         ...,\n",
              "         [-0.17669779, -0.31260568,  1.0875313 , ...,  0.5924216 ,\n",
              "           0.01275315, -0.2817189 ],\n",
              "         [-0.34473777, -0.42430073,  0.8798025 , ...,  0.54826194,\n",
              "          -0.08151884, -0.3400143 ],\n",
              "         [-0.481398  , -0.31324285,  1.1702341 , ...,  0.87309915,\n",
              "          -0.07970215, -0.4532554 ]]], dtype=float32)>,\n",
              " <tf.Tensor: shape=(1, 128, 768), dtype=float32, numpy=\n",
              " array([[[-0.03392706, -0.39431402,  0.04223749, ..., -0.07905558,\n",
              "           0.0199381 ,  0.7692064 ],\n",
              "         [ 1.4294361 , -0.08699021,  1.5299487 , ...,  0.22512172,\n",
              "          -1.0060084 , -0.2370227 ],\n",
              "         [ 1.5031741 ,  0.6725792 , -0.52590245, ...,  0.10906991,\n",
              "           0.27042383, -1.25675   ],\n",
              "         ...,\n",
              "         [-0.300336  , -0.0226195 ,  1.3187401 , ...,  0.6928875 ,\n",
              "          -0.09798467, -0.17419657],\n",
              "         [-0.4375416 , -0.21149284,  1.1094574 , ...,  0.5006607 ,\n",
              "          -0.17692357, -0.18529102],\n",
              "         [-0.6592042 , -0.19607939,  1.3134067 , ...,  0.73200816,\n",
              "          -0.19967395, -0.32469237]]], dtype=float32)>,\n",
              " <tf.Tensor: shape=(1, 128, 768), dtype=float32, numpy=\n",
              " array([[[-0.23803487, -0.6655407 ,  0.2991722 , ...,  0.03415214,\n",
              "           0.2936274 ,  0.9653628 ],\n",
              "         [ 1.504076  ,  0.00695145,  1.4314138 , ...,  0.24628806,\n",
              "          -0.55219686, -0.3221549 ],\n",
              "         [ 1.3629029 ,  0.47741815, -0.6152992 , ...,  0.08587006,\n",
              "           0.43922478, -1.5594152 ],\n",
              "         ...,\n",
              "         [-0.16864032,  0.00209666,  1.3201765 , ...,  0.9428049 ,\n",
              "          -0.04737373,  0.21490514],\n",
              "         [-0.26666403, -0.24881312,  1.2213268 , ...,  0.63528115,\n",
              "          -0.04442427,  0.04466309],\n",
              "         [-0.5336605 , -0.3579608 ,  1.3447877 , ...,  0.603845  ,\n",
              "          -0.0842718 , -0.15712179]]], dtype=float32)>,\n",
              " <tf.Tensor: shape=(1, 128, 768), dtype=float32, numpy=\n",
              " array([[[-0.07082751, -0.2568992 , -0.03596195, ..., -0.3588119 ,\n",
              "           0.13524778,  1.0136113 ],\n",
              "         [ 0.9747186 , -0.19712849,  1.4318074 , ..., -0.14052045,\n",
              "          -0.05043216, -0.02714211],\n",
              "         [ 1.1273398 ,  0.2712283 , -0.2862295 , ...,  0.09338585,\n",
              "           0.2990828 , -1.3764445 ],\n",
              "         ...,\n",
              "         [-0.09578709,  0.29180768,  1.5879145 , ...,  0.8500429 ,\n",
              "          -0.05128533,  0.20340145],\n",
              "         [-0.22268811, -0.08389618,  1.7256013 , ...,  0.6122226 ,\n",
              "           0.10976571,  0.07004695],\n",
              "         [-0.5782996 , -0.35915652,  1.6035969 , ...,  0.34189937,\n",
              "           0.0528811 , -0.15401039]]], dtype=float32)>,\n",
              " <tf.Tensor: shape=(1, 128, 768), dtype=float32, numpy=\n",
              " array([[[-0.09403522, -0.05987622, -0.01171622, ..., -0.22167453,\n",
              "          -0.07650114,  0.57658166],\n",
              "         [ 0.77480596,  0.1518826 ,  1.0920002 , ..., -0.19562398,\n",
              "           0.15173216, -0.01071434],\n",
              "         [ 0.85191286,  0.25842756, -0.7703552 , ...,  0.03356674,\n",
              "           0.3401044 , -1.3918686 ],\n",
              "         ...,\n",
              "         [-0.19780388,  0.5281972 ,  0.9023524 , ...,  0.27919737,\n",
              "          -0.28764197,  0.7510947 ],\n",
              "         [-0.35067335,  0.09291927,  1.3383346 , ...,  0.22619672,\n",
              "          -0.03588996,  0.2734394 ],\n",
              "         [-0.9044499 , -0.2099127 ,  1.1977361 , ...,  0.35118634,\n",
              "          -0.21743551,  0.01482168]]], dtype=float32)>,\n",
              " <tf.Tensor: shape=(1, 128, 768), dtype=float32, numpy=\n",
              " array([[[-0.22671385,  0.03110866,  0.32186097, ..., -0.2809011 ,\n",
              "          -0.7505077 ,  0.44558007],\n",
              "         [ 0.7712549 ,  0.11217984,  0.6603317 , ..., -0.09223824,\n",
              "           0.34821212, -0.36905137],\n",
              "         [ 0.51224023, -0.19928972, -0.84775037, ..., -0.28812078,\n",
              "           0.22383747, -1.2124606 ],\n",
              "         ...,\n",
              "         [ 0.12500669,  0.6663398 ,  0.9852207 , ..., -0.08709393,\n",
              "          -0.58054745,  0.61272484],\n",
              "         [ 0.01400455,  0.10471208,  1.2684811 , ..., -0.01833174,\n",
              "          -0.35933197,  0.15463215],\n",
              "         [-0.8093829 , -0.3606812 ,  1.3501283 , ...,  0.5893602 ,\n",
              "          -0.5093222 , -0.09767035]]], dtype=float32)>,\n",
              " <tf.Tensor: shape=(1, 128, 768), dtype=float32, numpy=\n",
              " array([[[-0.02195195,  0.2130354 ,  0.31135926, ..., -0.23917927,\n",
              "          -0.27870807,  0.20408496],\n",
              "         [ 0.8309842 ,  0.19078153,  0.7113457 , ..., -0.30024475,\n",
              "           0.31152508, -0.25934097],\n",
              "         [ 0.37308905, -0.42212644, -0.66690874, ..., -0.45297655,\n",
              "           0.32045236, -0.29988632],\n",
              "         ...,\n",
              "         [ 0.33166486,  0.7183585 ,  0.8996111 , ..., -0.34914517,\n",
              "          -0.29987073,  0.5238895 ],\n",
              "         [ 0.23853327,  0.20484428,  1.1306419 , ..., -0.15113069,\n",
              "          -0.13781117,  0.07699926],\n",
              "         [-0.38411993, -0.38158712,  1.3397293 , ...,  0.57755506,\n",
              "          -0.15539871, -0.29294616]]], dtype=float32)>,\n",
              " <tf.Tensor: shape=(1, 128, 768), dtype=float32, numpy=\n",
              " array([[[ 0.07292062,  0.0856778 ,  0.1447685 , ..., -0.09677092,\n",
              "           0.08722138,  0.07711118],\n",
              "         [ 0.17839387, -0.19006082,  0.5034943 , ..., -0.05869817,\n",
              "           0.32717144, -0.15578564],\n",
              "         [ 0.18701456, -0.43388784, -0.48875132, ..., -0.15502763,\n",
              "           0.00145165, -0.2447095 ],\n",
              "         ...,\n",
              "         [ 0.12083055,  0.12884246,  0.46453553, ...,  0.07375517,\n",
              "           0.17441934,  0.16522156],\n",
              "         [ 0.07967898, -0.01190664,  0.50225395, ...,  0.13777721,\n",
              "           0.21002224,  0.00624594],\n",
              "         [-0.07212677, -0.28303456,  0.590334  , ...,  0.47551885,\n",
              "           0.16668522, -0.08920377]]], dtype=float32)>]"
            ]
          },
          "metadata": {},
          "execution_count": 27
        }
      ]
    },
    {
      "cell_type": "code",
      "source": [],
      "metadata": {
        "id": "K2ZTaBmbY0Ly"
      },
      "execution_count": 27,
      "outputs": []
    },
    {
      "cell_type": "code",
      "source": [
        "results['default']\n",
        "\n",
        "# default\n",
        "# : This is the default output of the BERT model. It is the pooled_output.\n",
        "\n"
      ],
      "metadata": {
        "colab": {
          "base_uri": "https://localhost:8080/"
        },
        "id": "OxZCwMOLY0P6",
        "outputId": "0134b57d-dd9a-4509-b79c-2ec82dc982e4"
      },
      "execution_count": 28,
      "outputs": [
        {
          "output_type": "execute_result",
          "data": {
            "text/plain": [
              "<tf.Tensor: shape=(1, 768), dtype=float32, numpy=\n",
              "array([[-7.91773856e-01, -2.14119092e-01,  4.97694999e-01,\n",
              "         4.73431796e-01, -1.80652291e-01, -8.33084732e-02,\n",
              "         8.14969540e-01,  1.44600809e-01,  2.04916120e-01,\n",
              "        -9.99240041e-01,  1.36825517e-01,  8.30048323e-03,\n",
              "         9.51741576e-01, -3.63364667e-01,  8.72413635e-01,\n",
              "        -4.07976568e-01, -3.00641861e-02, -4.13878918e-01,\n",
              "         2.43135571e-01, -6.50724053e-01,  4.46718186e-01,\n",
              "         7.56984770e-01,  5.95490694e-01,  1.58233672e-01,\n",
              "         2.40729541e-01,  1.85461193e-01, -5.00944316e-01,\n",
              "         8.72952282e-01,  9.05975044e-01,  5.36843598e-01,\n",
              "        -5.62124133e-01,  9.55323577e-02, -9.55684125e-01,\n",
              "        -8.73648748e-02,  5.06407499e-01, -9.52129483e-01,\n",
              "         6.01504706e-02, -6.85674369e-01,  6.50394559e-02,\n",
              "         2.19803806e-02, -8.37848842e-01,  1.31664664e-01,\n",
              "         9.86527085e-01, -3.81034732e-01, -1.99163452e-01,\n",
              "        -2.51670927e-01, -9.98164058e-01,  1.07079916e-01,\n",
              "        -7.86918461e-01, -3.92053127e-01, -2.68120080e-01,\n",
              "        -5.12088239e-01,  6.53306842e-02,  2.76707113e-01,\n",
              "         2.41417751e-01,  4.82246697e-01, -1.84257284e-01,\n",
              "         4.68178205e-02, -9.91879869e-03, -4.41179603e-01,\n",
              "        -5.07516146e-01,  1.02841236e-01,  1.62792072e-01,\n",
              "        -8.47222328e-01, -3.39589030e-01, -5.59101701e-01,\n",
              "        -2.83390358e-02, -1.42712027e-01,  1.49695501e-02,\n",
              "        -2.84497086e-02,  7.38820195e-01,  1.03922226e-01,\n",
              "         3.35900486e-01, -7.16029108e-01, -4.88622755e-01,\n",
              "         8.83271620e-02, -3.07956874e-01,  9.99954402e-01,\n",
              "        -2.31576130e-01, -9.41488385e-01, -3.41892481e-01,\n",
              "        -3.37109983e-01,  2.20050067e-01,  5.78710079e-01,\n",
              "        -5.52774727e-01, -9.99730170e-01,  2.54279256e-01,\n",
              "         1.05414335e-02, -9.72616136e-01,  1.20836824e-01,\n",
              "         2.95919061e-01, -1.20467857e-01, -5.45695364e-01,\n",
              "         2.10033759e-01, -9.94440913e-02,  3.56055447e-03,\n",
              "        -1.32602662e-01,  3.40033889e-01, -2.59193555e-02,\n",
              "         1.29423440e-01, -1.11821659e-01, -1.12267844e-01,\n",
              "         1.03173271e-01, -1.74657807e-01,  3.85762639e-02,\n",
              "        -2.45006680e-01, -2.99907714e-01,  2.50575542e-01,\n",
              "        -2.96538889e-01,  4.77084935e-01,  2.06439480e-01,\n",
              "        -1.62503734e-01,  1.80190936e-01, -9.17238474e-01,\n",
              "         5.03255785e-01, -1.13711312e-01, -9.48557973e-01,\n",
              "        -2.93137699e-01, -9.65898037e-01,  5.34105897e-01,\n",
              "         1.15475766e-01, -8.80903155e-02,  9.13192391e-01,\n",
              "         6.06825888e-01,  1.57537892e-01,  7.97774792e-02,\n",
              "         4.32728529e-01, -9.99979913e-01, -2.08415478e-01,\n",
              "         8.68633576e-03,  2.37644956e-01,  1.09877558e-02,\n",
              "        -9.34372187e-01, -8.98838758e-01,  4.07036245e-01,\n",
              "         9.15152073e-01, -1.30110336e-02,  9.81194317e-01,\n",
              "        -1.13565192e-01,  8.55104566e-01,  1.80821657e-01,\n",
              "        -4.81336378e-03, -2.84859091e-01, -2.79501170e-01,\n",
              "         1.19627185e-01,  2.14574277e-01, -5.36996782e-01,\n",
              "         1.36196733e-01,  2.09289685e-01, -1.83880970e-01,\n",
              "         1.13874279e-01, -1.21151671e-01,  3.47135842e-01,\n",
              "        -8.84506464e-01, -3.06717008e-01,  8.86797547e-01,\n",
              "         2.39825070e-01,  4.77077365e-01,  6.17825925e-01,\n",
              "        -9.92898121e-02, -1.93388060e-01,  7.09312379e-01,\n",
              "         1.31837636e-01,  2.20941335e-01,  6.98423833e-02,\n",
              "         2.26201192e-01, -2.52426714e-01,  2.92800188e-01,\n",
              "        -6.77987933e-01,  2.59352595e-01,  2.63723493e-01,\n",
              "        -8.87747779e-02,  4.29655612e-01, -9.41664934e-01,\n",
              "        -1.54309139e-01,  3.28170210e-01,  9.61236417e-01,\n",
              "         6.09754026e-01,  7.18220845e-02, -8.97155330e-02,\n",
              "        -9.26781446e-02,  1.00710899e-01, -8.82935524e-01,\n",
              "         9.35062289e-01, -8.31905380e-02,  1.64564297e-01,\n",
              "         4.57009494e-01, -2.10074726e-02, -7.68037796e-01,\n",
              "        -5.12790978e-01,  7.03778267e-01, -6.20459765e-03,\n",
              "        -7.35839963e-01,  1.26278877e-01, -3.58198583e-01,\n",
              "        -2.66682684e-01,  2.33262584e-01,  3.47863048e-01,\n",
              "        -2.09502682e-01, -2.70532429e-01,  1.41287697e-02,\n",
              "         8.59786093e-01,  9.21734989e-01,  6.56452537e-01,\n",
              "        -5.61921597e-01,  2.95114398e-01, -8.44119191e-01,\n",
              "        -2.70317674e-01, -2.97395955e-03,  1.39767110e-01,\n",
              "         6.81434423e-02,  9.80938494e-01,  3.05200875e-01,\n",
              "        -4.87424508e-02, -8.54879022e-01, -9.61525381e-01,\n",
              "        -3.40271145e-02, -7.97254860e-01,  2.11569723e-02,\n",
              "        -4.86237258e-01,  5.25775291e-02,  6.08194649e-01,\n",
              "        -1.28799647e-01,  2.09340692e-01, -9.61517096e-01,\n",
              "        -6.68338656e-01,  1.91929087e-01, -1.13421239e-01,\n",
              "         2.41986454e-01, -9.58954468e-02,  1.37119722e-02,\n",
              "        -2.27977484e-01, -3.41757327e-01,  7.22844899e-01,\n",
              "         7.39265263e-01,  4.83173430e-01, -5.31844139e-01,\n",
              "         7.03667343e-01, -1.77818999e-01,  7.69865751e-01,\n",
              "        -4.07417238e-01,  9.22388911e-01, -1.34905294e-01,\n",
              "         3.44897479e-01, -8.54882360e-01,  4.44449544e-01,\n",
              "        -8.31748307e-01,  1.95156306e-01, -8.46904367e-02,\n",
              "        -6.69413686e-01, -2.77333438e-01,  2.35516429e-01,\n",
              "         1.75360799e-01,  7.77578473e-01, -2.96629310e-01,\n",
              "         9.83148873e-01, -1.17597722e-01, -8.90577734e-01,\n",
              "         9.37112793e-02,  8.31729695e-02, -9.55904484e-01,\n",
              "        -2.61754483e-01,  2.27863669e-01, -6.45830631e-01,\n",
              "        -1.91339016e-01, -2.10099310e-01, -8.94523680e-01,\n",
              "         7.83507228e-01,  2.74964031e-02,  9.58396316e-01,\n",
              "         1.88522905e-01, -8.03715169e-01, -1.89585716e-01,\n",
              "        -8.00720215e-01, -2.57286817e-01,  1.37634110e-02,\n",
              "         5.86316586e-01, -2.09001526e-01, -9.14763629e-01,\n",
              "         3.03723246e-01,  3.69081050e-01,  2.32708633e-01,\n",
              "         5.56209266e-01,  9.82058048e-01,  9.89278913e-01,\n",
              "         9.40122128e-01,  7.83998013e-01,  8.02498162e-01,\n",
              "        -5.28638422e-01, -8.32529441e-02,  9.99632001e-01,\n",
              "        -1.99506462e-01, -9.99128759e-01, -8.78294587e-01,\n",
              "        -4.75710362e-01,  2.25826621e-01, -9.99974966e-01,\n",
              "        -2.14802343e-02,  6.86972737e-02, -8.45661402e-01,\n",
              "        -4.38658416e-01,  9.45182145e-01,  9.60342467e-01,\n",
              "        -9.99910235e-01,  7.55790293e-01,  8.85257840e-01,\n",
              "        -3.12887311e-01,  1.38682663e-01,  1.75151993e-02,\n",
              "         9.34909821e-01,  2.43718743e-01,  2.23771423e-01,\n",
              "        -3.99753079e-02,  2.10190937e-01,  1.72873080e-01,\n",
              "        -7.21186578e-01,  4.63625878e-01,  4.68464494e-01,\n",
              "         1.25069797e-01,  5.68856597e-02, -4.81618285e-01,\n",
              "        -8.60778987e-01, -3.43237817e-01, -1.23260245e-01,\n",
              "        -3.48160446e-01, -9.05414402e-01,  5.31398179e-03,\n",
              "        -3.42670739e-01,  4.90179390e-01, -1.57639675e-03,\n",
              "         3.17711160e-02, -6.63433194e-01,  1.05887957e-01,\n",
              "        -6.62541687e-01,  2.28223652e-01,  3.85624737e-01,\n",
              "        -8.69750142e-01, -4.68842626e-01, -2.23282948e-01,\n",
              "        -4.38635230e-01,  3.88608098e-01, -8.90622914e-01,\n",
              "         9.35678124e-01, -2.40472108e-01, -2.77928323e-01,\n",
              "         9.99944270e-01, -3.41955245e-01, -7.70352900e-01,\n",
              "         1.66718751e-01,  4.14998643e-02, -2.62186769e-02,\n",
              "         9.99846578e-01,  2.15616107e-01, -9.42698300e-01,\n",
              "        -2.52623379e-01, -2.80178692e-02, -2.65500337e-01,\n",
              "        -1.16498746e-01,  9.89864826e-01, -8.19349065e-02,\n",
              "         3.91905457e-01,  5.48289239e-01,  9.11557257e-01,\n",
              "        -9.61254060e-01,  3.13632190e-05, -8.23026299e-01,\n",
              "        -9.19989347e-01,  9.27457690e-01,  8.74515355e-01,\n",
              "        -4.94720042e-02, -4.69823718e-01,  1.34552065e-02,\n",
              "         2.38749176e-01,  1.42865136e-01, -9.27564979e-01,\n",
              "         4.91486967e-01,  2.99332172e-01, -6.40325099e-02,\n",
              "         8.21103990e-01, -7.97088802e-01, -2.53255934e-01,\n",
              "         3.05012912e-01, -2.64873356e-02,  2.65379429e-01,\n",
              "        -4.14405316e-01,  2.84017980e-01, -1.18955538e-01,\n",
              "         1.21779451e-02, -1.71672001e-01,  1.94640115e-01,\n",
              "        -9.45607603e-01, -1.50069013e-01,  9.99844491e-01,\n",
              "         6.51655570e-02, -6.16242528e-01, -5.92501983e-02,\n",
              "         3.24359611e-02, -3.48848253e-01,  1.81669623e-01,\n",
              "         2.70156711e-01, -2.10832119e-01, -7.18057156e-01,\n",
              "        -2.25577474e-01, -8.56356919e-01, -9.49268699e-01,\n",
              "         6.76108956e-01,  1.72875479e-01, -1.26074418e-01,\n",
              "         9.86276925e-01,  1.26073778e-01,  4.60283756e-02,\n",
              "        -1.43628895e-01,  3.76110338e-02, -6.84118941e-02,\n",
              "         5.02648532e-01, -5.34930229e-01,  9.17494833e-01,\n",
              "        -1.35026470e-01,  2.35816866e-01,  7.51147687e-01,\n",
              "         3.76338452e-01, -1.58582032e-01, -4.92263347e-01,\n",
              "         1.53147150e-02, -8.08701754e-01,  1.01418197e-01,\n",
              "        -8.99161816e-01,  9.11437869e-01, -4.36452031e-01,\n",
              "         1.36482507e-01,  5.09162769e-02, -3.07009667e-01,\n",
              "         9.99911010e-01,  2.93395728e-01,  4.42912012e-01,\n",
              "        -4.99043584e-01,  7.62613416e-01, -5.50273240e-01,\n",
              "        -5.51401377e-01, -2.46138379e-01,  7.60558471e-02,\n",
              "         4.83317256e-01, -7.58830458e-02,  1.39115363e-01,\n",
              "        -9.27418590e-01, -4.05549914e-01, -3.16642016e-01,\n",
              "        -9.41766322e-01, -9.68864083e-01,  5.03707469e-01,\n",
              "         6.01130128e-01, -5.93522303e-02,  3.33274789e-02,\n",
              "        -4.46002901e-01, -4.34534937e-01,  5.53482287e-02,\n",
              "        -8.87925401e-02, -8.90049934e-01,  5.91310620e-01,\n",
              "        -1.26893491e-01,  3.34148258e-01, -1.55161202e-01,\n",
              "         2.75232613e-01, -5.15157521e-01,  8.19547117e-01,\n",
              "         5.54468393e-01,  2.37472355e-01, -3.38204056e-02,\n",
              "        -6.75975382e-01,  6.18630946e-01, -6.54811859e-01,\n",
              "         3.73394728e-01, -4.35037054e-02,  9.99968171e-01,\n",
              "        -1.67473525e-01, -3.14291209e-01,  5.54332733e-01,\n",
              "         5.71873546e-01,  1.18399574e-03,  4.95407991e-02,\n",
              "        -3.83176774e-01,  4.56102565e-02,  4.88401830e-01,\n",
              "         5.14206588e-01, -6.94008470e-01, -1.24175571e-01,\n",
              "         2.67397553e-01, -5.77638209e-01, -5.12039602e-01,\n",
              "         6.44984186e-01, -6.27669469e-02,  2.15176474e-02,\n",
              "         6.35890961e-02, -2.93106697e-02,  9.94260728e-01,\n",
              "        -1.20256506e-02, -6.26767874e-02, -3.35089743e-01,\n",
              "         1.42385796e-01, -1.78101912e-01, -4.46418047e-01,\n",
              "         9.99518991e-01,  2.46960953e-01, -2.94683278e-01,\n",
              "        -9.67229068e-01,  4.06585306e-01, -8.22206676e-01,\n",
              "         9.73353207e-01,  6.95527017e-01, -7.62623489e-01,\n",
              "         2.97503203e-01,  2.49431491e-01, -4.98324744e-02,\n",
              "         5.94067752e-01, -6.90308213e-02, -1.77186787e-01,\n",
              "         3.53026465e-02,  5.81331588e-02,  9.07829642e-01,\n",
              "        -2.93327302e-01, -9.11568522e-01, -4.30490583e-01,\n",
              "         1.63951769e-01, -9.04157519e-01,  5.30569732e-01,\n",
              "        -3.21962446e-01,  6.62977016e-03, -1.66918337e-01,\n",
              "         3.73077929e-01,  7.14192271e-01, -7.90546313e-02,\n",
              "        -9.49292302e-01, -9.79638752e-03, -5.87977879e-02,\n",
              "         9.10730898e-01,  3.83146554e-02, -2.36383900e-01,\n",
              "        -8.20472896e-01, -3.89099211e-01, -1.74250796e-01,\n",
              "         4.46884692e-01, -8.98651361e-01,  9.24079597e-01,\n",
              "        -9.57416892e-01,  2.11923301e-01,  9.99312818e-01,\n",
              "         1.95457906e-01, -6.57399833e-01,  7.59341940e-02,\n",
              "        -2.17355013e-01,  1.30798772e-01,  2.64493585e-01,\n",
              "         4.18090940e-01, -9.13053632e-01, -1.75681159e-01,\n",
              "        -2.15979554e-02,  1.66695938e-01, -5.74146733e-02,\n",
              "         4.24125463e-01,  4.95436519e-01,  8.27122182e-02,\n",
              "        -1.83425382e-01, -4.16369468e-01,  2.38397717e-02,\n",
              "         2.59284973e-01,  5.17905056e-01, -2.26057976e-01,\n",
              "        -2.01518200e-02,  2.29716040e-02, -8.09181035e-02,\n",
              "        -8.38755667e-01, -6.22150265e-02, -1.07157916e-01,\n",
              "        -8.78180385e-01,  5.76268554e-01, -9.99950290e-01,\n",
              "        -4.23848867e-01, -5.96361935e-01, -1.16449758e-01,\n",
              "         7.15603173e-01,  5.68021229e-03, -2.05521941e-01,\n",
              "        -5.54940522e-01,  4.11236286e-01,  7.82235801e-01,\n",
              "         6.15934372e-01, -1.64104551e-02,  2.16384858e-01,\n",
              "        -5.20750165e-01,  5.06237373e-02,  3.43425050e-02,\n",
              "         1.57024264e-01,  2.56049931e-01,  6.04854107e-01,\n",
              "        -6.48414791e-02,  9.99974251e-01, -1.98383257e-02,\n",
              "        -1.26200974e-01, -9.33380187e-01,  1.52939871e-01,\n",
              "        -6.06813729e-02,  9.94934142e-01, -7.96938658e-01,\n",
              "        -8.86098802e-01,  1.24401085e-01, -2.90080816e-01,\n",
              "        -6.70863032e-01,  1.10585578e-01, -9.28634703e-02,\n",
              "        -4.99459743e-01,  1.95518464e-01,  9.09083366e-01,\n",
              "         7.66303003e-01, -3.08665991e-01,  1.00632027e-01,\n",
              "        -1.66610986e-01, -2.75781721e-01, -3.66752930e-02,\n",
              "        -4.55538094e-01,  9.67795908e-01,  3.42627496e-01,\n",
              "         7.57475495e-01,  5.23168445e-01,  2.32721016e-01,\n",
              "         9.06093657e-01,  3.32979634e-02,  4.15342748e-01,\n",
              "         4.69194958e-03,  9.99503553e-01,  1.18651330e-01,\n",
              "        -8.49400282e-01,  4.20897067e-01, -9.61208582e-01,\n",
              "        -6.96967542e-02, -8.99236381e-01,  1.49085343e-01,\n",
              "        -5.51155768e-02,  7.64419079e-01, -1.65530756e-01,\n",
              "         8.86499822e-01,  5.38429141e-01,  9.80024505e-03,\n",
              "         1.34428903e-01,  6.08944058e-01,  2.22243547e-01,\n",
              "        -8.55021179e-01, -9.61262941e-01, -9.66819465e-01,\n",
              "         1.35674134e-01, -3.28003377e-01,  1.75778847e-02,\n",
              "         1.89986378e-01,  1.25444293e-01,  2.31083155e-01,\n",
              "         2.49679431e-01, -9.99151289e-01,  8.65468562e-01,\n",
              "         2.57481962e-01, -4.54985678e-01,  9.12244856e-01,\n",
              "         1.55036926e-01,  4.64430526e-02,  1.83011353e-01,\n",
              "        -9.61706996e-01, -9.24584746e-01, -2.08539501e-01,\n",
              "        -1.70182019e-01,  6.14784777e-01,  3.41512591e-01,\n",
              "         7.47180939e-01,  2.02495873e-01, -3.91560018e-01,\n",
              "        -4.79167588e-02,  4.23092127e-01, -2.50145555e-01,\n",
              "        -9.78324592e-01,  2.69863725e-01,  3.57036948e-01,\n",
              "        -9.01376843e-01,  8.99236143e-01, -4.57535952e-01,\n",
              "        -6.95424601e-02,  6.40109897e-01,  1.68247089e-01,\n",
              "         8.81823421e-01,  6.52403355e-01,  3.48077744e-01,\n",
              "         6.26783893e-02,  3.32206279e-01,  8.06356013e-01,\n",
              "         8.81764889e-01,  9.61602747e-01,  3.10615569e-01,\n",
              "         5.93588531e-01,  4.01652783e-01,  2.46652111e-01,\n",
              "         2.47158512e-01, -8.80048811e-01, -1.18944934e-03,\n",
              "        -2.03212693e-01,  1.47778377e-01,  7.61957914e-02,\n",
              "        -5.21921404e-02, -9.21388805e-01,  1.01366438e-01,\n",
              "         1.63663477e-02,  3.12988907e-01, -2.00224385e-01,\n",
              "         1.97574377e-01, -3.02012324e-01, -1.04971819e-01,\n",
              "        -5.36961019e-01, -3.52113217e-01,  4.07730758e-01,\n",
              "         1.05686337e-01,  8.46849859e-01,  5.20757912e-03,\n",
              "        -2.36670161e-03, -3.62969071e-01, -4.79579903e-02,\n",
              "         4.34872687e-01, -8.69833529e-01,  8.57040942e-01,\n",
              "         6.59034476e-02,  5.12682676e-01, -4.99644935e-01,\n",
              "        -1.09138094e-01,  5.12152433e-01, -4.14683491e-01,\n",
              "        -2.17782229e-01, -1.54307678e-01, -5.46726167e-01,\n",
              "         7.20170617e-01,  4.06465754e-02, -2.99664676e-01,\n",
              "        -2.56077886e-01,  5.35955667e-01,  1.40492961e-01,\n",
              "         7.55868018e-01,  3.90020996e-01,  1.98472723e-01,\n",
              "         5.43789752e-02, -1.47025004e-01,  1.42857030e-01,\n",
              "        -5.26258163e-02, -9.99215066e-01,  2.39698991e-01,\n",
              "         1.77003652e-01, -3.68246824e-01,  1.68134406e-01,\n",
              "        -3.96601528e-01,  1.04682028e-01, -9.41351473e-01,\n",
              "         8.64110701e-03, -2.62564778e-01, -3.15286607e-01,\n",
              "        -4.20447290e-01, -2.46492237e-01,  2.62421042e-01,\n",
              "         3.56325954e-01,  7.85526168e-03,  7.98451185e-01,\n",
              "         2.42417842e-01,  6.08030200e-01,  3.27132553e-01,\n",
              "         2.44651809e-01, -4.73344684e-01,  8.17586780e-01]], dtype=float32)>"
            ]
          },
          "metadata": {},
          "execution_count": 28
        }
      ]
    },
    {
      "cell_type": "code",
      "source": [],
      "metadata": {
        "id": "DZoxHnqFiYLJ"
      },
      "execution_count": 28,
      "outputs": []
    },
    {
      "cell_type": "code",
      "source": [
        "def get_sentence_embeding(sentences):\n",
        "\n",
        "    preprocessed_text = bert_preprocess(sentences)\n",
        "\n",
        "    return bert_encoder(preprocessed_text)['pooled_output']\n",
        "\n",
        "get_sentence_embeding([\n",
        "    \"500$ discount. hurry up\",\n",
        "    \"Bhavin, are you up for a volleybal game tomorrow?\"]\n",
        ")"
      ],
      "metadata": {
        "colab": {
          "base_uri": "https://localhost:8080/"
        },
        "id": "6HmLvUx1Y0TN",
        "outputId": "dc87c58c-0ae9-41b6-8983-035e93791a8c"
      },
      "execution_count": 29,
      "outputs": [
        {
          "output_type": "execute_result",
          "data": {
            "text/plain": [
              "<tf.Tensor: shape=(2, 768), dtype=float32, numpy=\n",
              "array([[-0.843517  , -0.5132727 , -0.8884572 , ..., -0.7474886 ,\n",
              "        -0.75314724,  0.91964495],\n",
              "       [-0.8720834 , -0.50543964, -0.94446665, ..., -0.8584749 ,\n",
              "        -0.7174534 ,  0.88082975]], dtype=float32)>"
            ]
          },
          "metadata": {},
          "execution_count": 29
        }
      ]
    },
    {
      "cell_type": "code",
      "source": [],
      "metadata": {
        "id": "2jxV_AjgY0XI"
      },
      "execution_count": 29,
      "outputs": []
    },
    {
      "cell_type": "markdown",
      "source": [
        "# Get embeding vectors for few sample words. Compare them using cosine similarity\n"
      ],
      "metadata": {
        "id": "64HqB6ycY0cW"
      }
    },
    {
      "cell_type": "code",
      "source": [
        "e = get_sentence_embeding([\n",
        "    \"banana\",\n",
        "    \"grapes\",\n",
        "    \"mango\",\n",
        "    \"jeff bezos\",\n",
        "    \"elon musk\",\n",
        "    \"bill gates\"\n",
        "]\n",
        ")"
      ],
      "metadata": {
        "id": "aYB8x80MY0hy"
      },
      "execution_count": 30,
      "outputs": []
    },
    {
      "cell_type": "code",
      "source": [
        "from sklearn.metrics.pairwise import cosine_similarity\n",
        "\n",
        "cosine_similarity([e[0]],[e[1]])"
      ],
      "metadata": {
        "colab": {
          "base_uri": "https://localhost:8080/"
        },
        "id": "IIg_nWlaY0lQ",
        "outputId": "f238d08c-20f6-4fe0-f1be-ba501c2b7fef"
      },
      "execution_count": 31,
      "outputs": [
        {
          "output_type": "execute_result",
          "data": {
            "text/plain": [
              "array([[0.9911087]], dtype=float32)"
            ]
          },
          "metadata": {},
          "execution_count": 31
        }
      ]
    },
    {
      "cell_type": "markdown",
      "source": [
        "# Values near to 1 means they are similar. 0 means they are very different. Above you can use comparing \"banana\" vs \"grapes\" you get 0.99 similarity as they both are fruits"
      ],
      "metadata": {
        "id": "eqlkldR8Y0oR"
      }
    },
    {
      "cell_type": "code",
      "source": [
        "cosine_similarity([e[0]],[e[3]])\n"
      ],
      "metadata": {
        "colab": {
          "base_uri": "https://localhost:8080/"
        },
        "id": "5TrHDQO-ixxS",
        "outputId": "7aaa07da-7834-4b74-d27b-32868a665406"
      },
      "execution_count": 32,
      "outputs": [
        {
          "output_type": "execute_result",
          "data": {
            "text/plain": [
              "array([[0.8470381]], dtype=float32)"
            ]
          },
          "metadata": {},
          "execution_count": 32
        }
      ]
    },
    {
      "cell_type": "markdown",
      "source": [
        "# Comparing banana with jeff bezos you still get 0.84 but it is not as close as 0.99 that we got with grapes\n",
        "\n"
      ],
      "metadata": {
        "id": "-2sxndYmix1j"
      }
    },
    {
      "cell_type": "code",
      "source": [],
      "metadata": {
        "id": "oH1ZcWWkix6v"
      },
      "execution_count": 32,
      "outputs": []
    },
    {
      "cell_type": "code",
      "source": [
        "cosine_similarity([e[3]],[e[4]])\n"
      ],
      "metadata": {
        "colab": {
          "base_uri": "https://localhost:8080/"
        },
        "id": "a21aA9xyix_t",
        "outputId": "5eec3a6f-7dfa-4daf-fc53-5d9cb94f6bb6"
      },
      "execution_count": 33,
      "outputs": [
        {
          "output_type": "execute_result",
          "data": {
            "text/plain": [
              "array([[0.9872034]], dtype=float32)"
            ]
          },
          "metadata": {},
          "execution_count": 33
        }
      ]
    },
    {
      "cell_type": "markdown",
      "source": [
        "# Jeff bezos and Elon musk are more similar then Jeff bezos and banana as indicated above\n",
        "\n"
      ],
      "metadata": {
        "id": "aiYuIZSMiyDy"
      }
    },
    {
      "cell_type": "code",
      "source": [],
      "metadata": {
        "id": "lcVoL_1BiySW"
      },
      "execution_count": 33,
      "outputs": []
    },
    {
      "cell_type": "markdown",
      "source": [
        "# Build Model"
      ],
      "metadata": {
        "id": "kyJUZucEiyXH"
      }
    },
    {
      "cell_type": "markdown",
      "source": [
        "There are two types of models you can build in tensorflow.\n",
        "\n",
        "(1) Sequential (2) Functional\n",
        "\n",
        "So far we have built sequential model. But below we will build functional model. More information on these two is here: https://becominghuman.ai/sequential-vs-functional-model-in-keras-20684f766057"
      ],
      "metadata": {
        "id": "uJOPTKieiyjY"
      }
    },
    {
      "cell_type": "code",
      "source": [],
      "metadata": {
        "id": "1ahYqwHDiysw"
      },
      "execution_count": 33,
      "outputs": []
    },
    {
      "cell_type": "code",
      "source": [
        "# Bert layers\n",
        "text_input = tf.keras.layers.Input(shape=(), dtype=tf.string, name='text')\n",
        "preprocessed_text = bert_preprocess(text_input)\n",
        "outputs = bert_encoder(preprocessed_text)\n",
        "\n",
        "# Neural network layers\n",
        "l = tf.keras.layers.Dropout(0.1, name=\"dropout\")(outputs['pooled_output'])\n",
        "l = tf.keras.layers.Dense(1, activation='sigmoid', name=\"output\")(l)\n",
        "\n",
        "# Use inputs and outputs to construct a final model\n",
        "model = tf.keras.Model(inputs=[text_input], outputs = [l])"
      ],
      "metadata": {
        "id": "hsJskZUSiyxa"
      },
      "execution_count": 34,
      "outputs": []
    },
    {
      "cell_type": "code",
      "source": [
        "# https://stackoverflow.com/questions/47605558/importerror-failed-to-import-pydot-you-must-install-pydot-and-graphviz-for-py\n",
        "\n"
      ],
      "metadata": {
        "id": "igya3PPtiy5O"
      },
      "execution_count": 35,
      "outputs": []
    },
    {
      "cell_type": "code",
      "source": [
        "model.summary()"
      ],
      "metadata": {
        "colab": {
          "base_uri": "https://localhost:8080/"
        },
        "id": "J3DHZYfOiy-P",
        "outputId": "33609eb3-6f64-4273-c144-ad7750e8cb34"
      },
      "execution_count": 36,
      "outputs": [
        {
          "output_type": "stream",
          "name": "stdout",
          "text": [
            "Model: \"model\"\n",
            "__________________________________________________________________________________________________\n",
            " Layer (type)                Output Shape                 Param #   Connected to                  \n",
            "==================================================================================================\n",
            " text (InputLayer)           [(None,)]                    0         []                            \n",
            "                                                                                                  \n",
            " keras_layer (KerasLayer)    {'input_word_ids': (None,    0         ['text[0][0]']                \n",
            "                             128),                                                                \n",
            "                              'input_type_ids': (None,                                            \n",
            "                             128),                                                                \n",
            "                              'input_mask': (None, 128)                                           \n",
            "                             }                                                                    \n",
            "                                                                                                  \n",
            " keras_layer_1 (KerasLayer)  {'sequence_output': (None,   1094822   ['keras_layer[0][0]',         \n",
            "                              128, 768),                  41         'keras_layer[0][1]',         \n",
            "                              'encoder_outputs': [(None              'keras_layer[0][2]']         \n",
            "                             , 128, 768),                                                         \n",
            "                              (None, 128, 768),                                                   \n",
            "                              (None, 128, 768),                                                   \n",
            "                              (None, 128, 768),                                                   \n",
            "                              (None, 128, 768),                                                   \n",
            "                              (None, 128, 768),                                                   \n",
            "                              (None, 128, 768),                                                   \n",
            "                              (None, 128, 768),                                                   \n",
            "                              (None, 128, 768),                                                   \n",
            "                              (None, 128, 768),                                                   \n",
            "                              (None, 128, 768),                                                   \n",
            "                              (None, 128, 768)],                                                  \n",
            "                              'default': (None, 768),                                             \n",
            "                              'pooled_output': (None, 7                                           \n",
            "                             68)}                                                                 \n",
            "                                                                                                  \n",
            " dropout (Dropout)           (None, 768)                  0         ['keras_layer_1[0][13]']      \n",
            "                                                                                                  \n",
            " output (Dense)              (None, 1)                    769       ['dropout[0][0]']             \n",
            "                                                                                                  \n",
            "==================================================================================================\n",
            "Total params: 109483010 (417.64 MB)\n",
            "Trainable params: 769 (3.00 KB)\n",
            "Non-trainable params: 109482241 (417.64 MB)\n",
            "__________________________________________________________________________________________________\n"
          ]
        }
      ]
    },
    {
      "cell_type": "code",
      "source": [],
      "metadata": {
        "id": "IFeS2hhLizC8"
      },
      "execution_count": 36,
      "outputs": []
    },
    {
      "cell_type": "markdown",
      "source": [],
      "metadata": {
        "id": "OOZyDGZRizHn"
      }
    },
    {
      "cell_type": "code",
      "source": [
        "len(X_train)\n"
      ],
      "metadata": {
        "colab": {
          "base_uri": "https://localhost:8080/"
        },
        "id": "NZAOYpL8izQs",
        "outputId": "e287576e-2806-45ff-a059-db240eb5a949"
      },
      "execution_count": 37,
      "outputs": [
        {
          "output_type": "execute_result",
          "data": {
            "text/plain": [
              "1120"
            ]
          },
          "metadata": {},
          "execution_count": 37
        }
      ]
    },
    {
      "cell_type": "code",
      "source": [],
      "metadata": {
        "id": "v7AiQHSBizVZ"
      },
      "execution_count": 37,
      "outputs": []
    },
    {
      "cell_type": "code",
      "source": [
        "METRICS = [\n",
        "      tf.keras.metrics.BinaryAccuracy(name='accuracy'),\n",
        "      tf.keras.metrics.Precision(name='precision'),\n",
        "      tf.keras.metrics.Recall(name='recall')\n",
        "]\n",
        "\n",
        "model.compile(optimizer='adam',\n",
        "              loss='binary_crossentropy',\n",
        "              metrics=METRICS)"
      ],
      "metadata": {
        "id": "uK0noxaNiza8"
      },
      "execution_count": 38,
      "outputs": []
    },
    {
      "cell_type": "code",
      "source": [],
      "metadata": {
        "id": "vwDXviFZizfq"
      },
      "execution_count": 38,
      "outputs": []
    },
    {
      "cell_type": "markdown",
      "source": [
        "# Train the model\n"
      ],
      "metadata": {
        "id": "vVf3VUX_izpW"
      }
    },
    {
      "cell_type": "code",
      "source": [
        "model.fit(X_train, y_train, epochs= 3)"
      ],
      "metadata": {
        "colab": {
          "base_uri": "https://localhost:8080/"
        },
        "id": "MQ_xyUFIizyF",
        "outputId": "571859d7-6574-4866-b645-0eaf0a3aad82"
      },
      "execution_count": 47,
      "outputs": [
        {
          "output_type": "stream",
          "name": "stdout",
          "text": [
            "Epoch 1/3\n",
            "35/35 [==============================] - 12s 351ms/step - loss: 0.4925 - accuracy: 0.8214 - precision: 0.7922 - recall: 0.8714\n",
            "Epoch 2/3\n",
            "35/35 [==============================] - 12s 354ms/step - loss: 0.4340 - accuracy: 0.8527 - precision: 0.8496 - recall: 0.8571\n",
            "Epoch 3/3\n",
            "35/35 [==============================] - 13s 359ms/step - loss: 0.3867 - accuracy: 0.8741 - precision: 0.8463 - recall: 0.9143\n"
          ]
        },
        {
          "output_type": "execute_result",
          "data": {
            "text/plain": [
              "<keras.src.callbacks.History at 0x7e348a78a170>"
            ]
          },
          "metadata": {},
          "execution_count": 47
        }
      ]
    },
    {
      "cell_type": "code",
      "source": [
        "model.evaluate(X_test, y_test)\n"
      ],
      "metadata": {
        "colab": {
          "base_uri": "https://localhost:8080/"
        },
        "id": "lrBFBrr5iz2c",
        "outputId": "c413730e-de77-485f-eb89-2fa70decd4ca"
      },
      "execution_count": 48,
      "outputs": [
        {
          "output_type": "stream",
          "name": "stdout",
          "text": [
            "12/12 [==============================] - 4s 333ms/step - loss: 0.3390 - accuracy: 0.9225 - precision: 0.9202 - recall: 0.9251\n"
          ]
        },
        {
          "output_type": "execute_result",
          "data": {
            "text/plain": [
              "[0.3390490412712097,\n",
              " 0.9224599003791809,\n",
              " 0.9202127456665039,\n",
              " 0.9251337051391602]"
            ]
          },
          "metadata": {},
          "execution_count": 48
        }
      ]
    },
    {
      "cell_type": "code",
      "source": [
        "y_predicted = model.predict(X_test)\n",
        "y_predicted = y_predicted.flatten()\n",
        "\n"
      ],
      "metadata": {
        "colab": {
          "base_uri": "https://localhost:8080/"
        },
        "id": "4kBeURGIiz7Y",
        "outputId": "eab6e36b-f41a-4849-a6de-bff6945f36cd"
      },
      "execution_count": 49,
      "outputs": [
        {
          "output_type": "stream",
          "name": "stdout",
          "text": [
            "12/12 [==============================] - 4s 366ms/step\n"
          ]
        }
      ]
    },
    {
      "cell_type": "code",
      "source": [
        "y_predicted[:5]"
      ],
      "metadata": {
        "colab": {
          "base_uri": "https://localhost:8080/"
        },
        "id": "YIAtAsReoFop",
        "outputId": "d2f23646-4ed2-4232-dd43-c209425ff89c"
      },
      "execution_count": 51,
      "outputs": [
        {
          "output_type": "execute_result",
          "data": {
            "text/plain": [
              "array([0.73930234, 0.7735341 , 0.78531075, 0.34491473, 0.8328545 ],\n",
              "      dtype=float32)"
            ]
          },
          "metadata": {},
          "execution_count": 51
        }
      ]
    },
    {
      "cell_type": "code",
      "source": [
        "import numpy as np\n",
        "\n",
        "y_predicted = np.where(y_predicted > 0.5, 1, 0)\n",
        "y_predicted"
      ],
      "metadata": {
        "colab": {
          "base_uri": "https://localhost:8080/"
        },
        "id": "3ZgmfEMsi0An",
        "outputId": "1e276230-8c60-4f98-db9c-7383945ec9f2"
      },
      "execution_count": 54,
      "outputs": [
        {
          "output_type": "execute_result",
          "data": {
            "text/plain": [
              "array([1, 1, 1, 0, 1, 0, 0, 1, 1, 1, 1, 0, 0, 0, 0, 0, 0, 1, 1, 1, 0, 1,\n",
              "       0, 1, 1, 1, 1, 1, 1, 1, 0, 0, 0, 1, 1, 1, 0, 0, 1, 0, 0, 1, 0, 1,\n",
              "       1, 0, 1, 0, 1, 0, 1, 1, 1, 0, 1, 0, 0, 0, 1, 1, 1, 1, 0, 0, 1, 0,\n",
              "       1, 0, 0, 1, 0, 0, 1, 1, 1, 0, 0, 1, 0, 1, 0, 1, 1, 0, 0, 1, 0, 0,\n",
              "       1, 0, 1, 0, 0, 0, 1, 1, 1, 1, 0, 0, 1, 0, 0, 0, 0, 1, 0, 1, 1, 1,\n",
              "       0, 0, 1, 0, 0, 0, 1, 0, 1, 1, 1, 1, 0, 0, 0, 1, 1, 0, 0, 1, 0, 1,\n",
              "       0, 0, 1, 0, 0, 1, 0, 0, 0, 1, 1, 1, 0, 1, 1, 0, 0, 0, 1, 1, 1, 1,\n",
              "       0, 0, 1, 1, 0, 0, 0, 0, 0, 0, 0, 1, 1, 1, 1, 1, 0, 1, 1, 0, 1, 1,\n",
              "       0, 0, 0, 0, 0, 1, 0, 1, 1, 1, 1, 1, 1, 0, 1, 1, 1, 1, 1, 0, 0, 1,\n",
              "       0, 1, 1, 1, 1, 1, 0, 0, 0, 1, 1, 0, 0, 0, 0, 1, 0, 1, 1, 1, 1, 0,\n",
              "       1, 0, 0, 0, 1, 1, 0, 0, 0, 1, 0, 1, 0, 0, 0, 1, 0, 1, 1, 0, 1, 0,\n",
              "       1, 0, 1, 0, 0, 1, 0, 1, 0, 1, 0, 0, 1, 0, 0, 1, 0, 0, 0, 1, 1, 0,\n",
              "       0, 0, 1, 1, 0, 0, 1, 0, 0, 1, 0, 1, 0, 1, 1, 0, 1, 1, 1, 0, 1, 1,\n",
              "       0, 1, 0, 0, 1, 1, 0, 0, 0, 0, 0, 1, 0, 0, 0, 1, 1, 1, 1, 0, 1, 0,\n",
              "       0, 0, 0, 1, 1, 0, 1, 1, 1, 0, 0, 0, 1, 1, 0, 0, 1, 1, 0, 1, 0, 0,\n",
              "       0, 0, 1, 1, 1, 0, 0, 1, 1, 0, 1, 0, 1, 0, 0, 0, 0, 0, 0, 0, 1, 1,\n",
              "       1, 1, 0, 0, 1, 1, 1, 1, 0, 1, 1, 1, 1, 1, 1, 0, 0, 1, 1, 0, 0, 1])"
            ]
          },
          "metadata": {},
          "execution_count": 54
        }
      ]
    },
    {
      "cell_type": "code",
      "source": [
        "from collections import Counter\n",
        "\n",
        "count = Counter(y_predicted)\n",
        "\n",
        "print(count)"
      ],
      "metadata": {
        "colab": {
          "base_uri": "https://localhost:8080/"
        },
        "id": "tZZLOorni0Oc",
        "outputId": "cff1c1bf-2e55-4382-b23d-55e57fdfc962"
      },
      "execution_count": 55,
      "outputs": [
        {
          "output_type": "stream",
          "name": "stdout",
          "text": [
            "Counter({1: 188, 0: 186})\n"
          ]
        }
      ]
    },
    {
      "cell_type": "markdown",
      "source": [],
      "metadata": {
        "id": "hqF27H_di0Ym"
      }
    },
    {
      "cell_type": "code",
      "source": [
        "from sklearn.metrics import confusion_matrix, classification_report\n",
        "\n",
        "cm = confusion_matrix(y_test, y_predicted)\n",
        "cm"
      ],
      "metadata": {
        "colab": {
          "base_uri": "https://localhost:8080/"
        },
        "id": "OZtjHwR4i0nb",
        "outputId": "d014cbed-142a-4598-8db4-874bc10d89ab"
      },
      "execution_count": 56,
      "outputs": [
        {
          "output_type": "execute_result",
          "data": {
            "text/plain": [
              "array([[172,  15],\n",
              "       [ 14, 173]])"
            ]
          },
          "metadata": {},
          "execution_count": 56
        }
      ]
    },
    {
      "cell_type": "code",
      "source": [],
      "metadata": {
        "id": "4bWy26hti0uH"
      },
      "execution_count": 42,
      "outputs": []
    },
    {
      "cell_type": "code",
      "source": [
        "from matplotlib import pyplot as plt\n",
        "import seaborn as sn\n",
        "sn.heatmap(cm, annot=True, fmt='d')\n",
        "plt.xlabel('Predicted')\n",
        "plt.ylabel('Truth')"
      ],
      "metadata": {
        "colab": {
          "base_uri": "https://localhost:8080/",
          "height": 466
        },
        "id": "nMp_d-zFi01l",
        "outputId": "c9238307-27fc-4ce0-b7c1-5b68d83716eb"
      },
      "execution_count": 57,
      "outputs": [
        {
          "output_type": "execute_result",
          "data": {
            "text/plain": [
              "Text(50.722222222222214, 0.5, 'Truth')"
            ]
          },
          "metadata": {},
          "execution_count": 57
        },
        {
          "output_type": "display_data",
          "data": {
            "text/plain": [
              "<Figure size 640x480 with 2 Axes>"
            ],
            "image/png": "[encoded data removed]"
          },
          "metadata": {}
        }
      ]
    },
    {
      "cell_type": "code",
      "source": [
        "print(classification_report(y_test, y_predicted))\n"
      ],
      "metadata": {
        "colab": {
          "base_uri": "https://localhost:8080/"
        },
        "id": "ZGi0viw6niha",
        "outputId": "1bad7b94-2e37-4049-e917-c8b671f7342e"
      },
      "execution_count": 58,
      "outputs": [
        {
          "output_type": "stream",
          "name": "stdout",
          "text": [
            "              precision    recall  f1-score   support\n",
            "\n",
            "           0       0.92      0.92      0.92       187\n",
            "           1       0.92      0.93      0.92       187\n",
            "\n",
            "    accuracy                           0.92       374\n",
            "   macro avg       0.92      0.92      0.92       374\n",
            "weighted avg       0.92      0.92      0.92       374\n",
            "\n"
          ]
        }
      ]
    },
    {
      "cell_type": "code",
      "source": [],
      "metadata": {
        "id": "iQ9OJnZPnixq"
      },
      "execution_count": null,
      "outputs": []
    },
    {
      "cell_type": "markdown",
      "source": [
        "# Inference\n"
      ],
      "metadata": {
        "id": "2SQolpiInpcP"
      }
    },
    {
      "cell_type": "code",
      "source": [
        "reviews = [\n",
        "    'Enter a chance to win $5000, hurry up, offer valid until march 31, 2021',\n",
        "    'You are awarded a SiPix Digital Camera! call 09061221061 from landline. Delivery within 28days. T Cs Box177. M221BP. 2yr warranty. 150ppm. 16 . p pÂ£3.99',\n",
        "    'it to 80488. Your 500 free text messages are valid until 31 December 2005.',\n",
        "    'Hey Sam, Are you coming for a cricket game tomorrow',\n",
        "    \"Why don't you wait 'til at least wednesday to see if you get your .\"\n",
        "]\n",
        "model.predict(reviews)"
      ],
      "metadata": {
        "colab": {
          "base_uri": "https://localhost:8080/"
        },
        "id": "lvnMCx2Hni2V",
        "outputId": "0fbced58-de78-4354-a141-a9dba9fc71a1"
      },
      "execution_count": 59,
      "outputs": [
        {
          "output_type": "stream",
          "name": "stdout",
          "text": [
            "1/1 [==============================] - 0s 46ms/step\n"
          ]
        },
        {
          "output_type": "execute_result",
          "data": {
            "text/plain": [
              "array([[0.64517045],\n",
              "       [0.657811  ],\n",
              "       [0.6547339 ],\n",
              "       [0.29964933],\n",
              "       [0.21616206]], dtype=float32)"
            ]
          },
          "metadata": {},
          "execution_count": 59
        }
      ]
    },
    {
      "cell_type": "code",
      "source": [],
      "metadata": {
        "id": "0HtZOjvgni6y"
      },
      "execution_count": null,
      "outputs": []
    },
    {
      "cell_type": "code",
      "source": [],
      "metadata": {
        "id": "wwaRWn-Bni_O"
      },
      "execution_count": null,
      "outputs": []
    },
    {
      "cell_type": "code",
      "source": [],
      "metadata": {
        "id": "GyrhR9r8njCx"
      },
      "execution_count": null,
      "outputs": []
    },
    {
      "cell_type": "code",
      "source": [],
      "metadata": {
        "id": "HYaAOZ8onjHf"
      },
      "execution_count": null,
      "outputs": []
    }
  ]
}